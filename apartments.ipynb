{
 "cells": [
  {
   "cell_type": "markdown",
   "metadata": {},
   "source": [
    "# Apartments Price Analysis\n",
    "\n",
    "---\n",
    "\n",
    "Author Name: Jiaxu Li\n",
    "\n",
    "Email: u25jl21@abdn.ac.uk\n",
    "\n",
    "ID: 50079685\n",
    "\n",
    "Finish time: 28/5/2024 \n",
    "\n",
    "---\n",
    "\n",
    "Additional information about the dataset: https://archive.ics.uci.edu/dataset/555/apartment+for+rent+classified"
   ]
  },
  {
   "cell_type": "markdown",
   "metadata": {},
   "source": [
    "# Data loading"
   ]
  },
  {
   "cell_type": "code",
   "execution_count": null,
   "metadata": {},
   "outputs": [],
   "source": [
    "# Add any pre-requisites or libraries here\n",
    "import pandas as pd\n",
    "import seaborn as sns\n",
    "import sklearn as sk\n",
    "import matplotlib.pyplot as plt\n",
    "import numpy as np\n",
    "# Import the data\n",
    "df = pd.read_csv(\"apartments.csv\", low_memory=False)\n",
    "\n"
   ]
  },
  {
   "cell_type": "markdown",
   "metadata": {},
   "source": [
    "Have a brief look at the data， and find out there are 99492 rows and 22 columns in this dataset.\n"
   ]
  },
  {
   "cell_type": "code",
   "execution_count": null,
   "metadata": {},
   "outputs": [
    {
     "data": {
      "text/plain": [
       "(99492, 22)"
      ]
     },
     "execution_count": 585,
     "metadata": {},
     "output_type": "execute_result"
    }
   ],
   "source": [
    "df.shape"
   ]
  },
  {
   "cell_type": "code",
   "execution_count": null,
   "metadata": {},
   "outputs": [
    {
     "name": "stdout",
     "output_type": "stream",
     "text": [
      "<class 'pandas.core.frame.DataFrame'>\n",
      "RangeIndex: 99492 entries, 0 to 99491\n",
      "Data columns (total 22 columns):\n",
      " #   Column         Non-Null Count  Dtype  \n",
      "---  ------         --------------  -----  \n",
      " 0   id             99492 non-null  int64  \n",
      " 1   category       99492 non-null  object \n",
      " 2   title          99492 non-null  object \n",
      " 3   body           99492 non-null  object \n",
      " 4   amenities      83448 non-null  object \n",
      " 5   bathrooms      99429 non-null  float64\n",
      " 6   bedrooms       99368 non-null  float64\n",
      " 7   currency       99492 non-null  object \n",
      " 8   fee            99492 non-null  object \n",
      " 9   has_photo      99492 non-null  object \n",
      " 10  pets_allowed   39068 non-null  object \n",
      " 11  price          99491 non-null  float64\n",
      " 12  price_display  99491 non-null  object \n",
      " 13  price_type     99492 non-null  object \n",
      " 14  square_feet    99492 non-null  int64  \n",
      " 15  address        7943 non-null   object \n",
      " 16  cityname       99190 non-null  object \n",
      " 17  state          99190 non-null  object \n",
      " 18  latitude       99467 non-null  float64\n",
      " 19  longitude      99467 non-null  float64\n",
      " 20  source         99492 non-null  object \n",
      " 21  time           99492 non-null  int64  \n",
      "dtypes: float64(5), int64(3), object(14)\n",
      "memory usage: 16.7+ MB\n"
     ]
    }
   ],
   "source": [
    "df.info()"
   ]
  },
  {
   "cell_type": "markdown",
   "metadata": {},
   "source": [
    "The DataFrame's memory usage is approximately 16.7 MB, including 22 columns in 3 data types(int64：3，float64：5，object：14) and some of them contain missing values that need to be addressed for complete analysis.\n"
   ]
  },
  {
   "cell_type": "markdown",
   "metadata": {},
   "source": [
    "first 5 rows of the data"
   ]
  },
  {
   "cell_type": "code",
   "execution_count": null,
   "metadata": {},
   "outputs": [
    {
     "data": {
      "text/html": [
       "<div>\n",
       "<style scoped>\n",
       "    .dataframe tbody tr th:only-of-type {\n",
       "        vertical-align: middle;\n",
       "    }\n",
       "\n",
       "    .dataframe tbody tr th {\n",
       "        vertical-align: top;\n",
       "    }\n",
       "\n",
       "    .dataframe thead th {\n",
       "        text-align: right;\n",
       "    }\n",
       "</style>\n",
       "<table border=\"1\" class=\"dataframe\">\n",
       "  <thead>\n",
       "    <tr style=\"text-align: right;\">\n",
       "      <th></th>\n",
       "      <th>id</th>\n",
       "      <th>category</th>\n",
       "      <th>title</th>\n",
       "      <th>body</th>\n",
       "      <th>amenities</th>\n",
       "      <th>bathrooms</th>\n",
       "      <th>bedrooms</th>\n",
       "      <th>currency</th>\n",
       "      <th>fee</th>\n",
       "      <th>has_photo</th>\n",
       "      <th>...</th>\n",
       "      <th>price_display</th>\n",
       "      <th>price_type</th>\n",
       "      <th>square_feet</th>\n",
       "      <th>address</th>\n",
       "      <th>cityname</th>\n",
       "      <th>state</th>\n",
       "      <th>latitude</th>\n",
       "      <th>longitude</th>\n",
       "      <th>source</th>\n",
       "      <th>time</th>\n",
       "    </tr>\n",
       "  </thead>\n",
       "  <tbody>\n",
       "    <tr>\n",
       "      <th>0</th>\n",
       "      <td>5668640009</td>\n",
       "      <td>housing/rent/apartment</td>\n",
       "      <td>One BR 507 &amp; 509 Esplanade</td>\n",
       "      <td>This unit is located at 507 &amp; 509 Esplanade, R...</td>\n",
       "      <td>NaN</td>\n",
       "      <td>1.0</td>\n",
       "      <td>1.0</td>\n",
       "      <td>USD</td>\n",
       "      <td>No</td>\n",
       "      <td>Thumbnail</td>\n",
       "      <td>...</td>\n",
       "      <td>$2,195</td>\n",
       "      <td>Monthly</td>\n",
       "      <td>542</td>\n",
       "      <td>507  509 Esplanade</td>\n",
       "      <td>Redondo Beach</td>\n",
       "      <td>CA</td>\n",
       "      <td>33.8520</td>\n",
       "      <td>-118.3759</td>\n",
       "      <td>RentLingo</td>\n",
       "      <td>1577360355</td>\n",
       "    </tr>\n",
       "    <tr>\n",
       "      <th>1</th>\n",
       "      <td>5668639818</td>\n",
       "      <td>housing/rent/apartment</td>\n",
       "      <td>Three BR 146 Lochview Drive</td>\n",
       "      <td>This unit is located at 146 Lochview Drive, Ne...</td>\n",
       "      <td>NaN</td>\n",
       "      <td>1.5</td>\n",
       "      <td>3.0</td>\n",
       "      <td>USD</td>\n",
       "      <td>No</td>\n",
       "      <td>Thumbnail</td>\n",
       "      <td>...</td>\n",
       "      <td>$1,250</td>\n",
       "      <td>Monthly</td>\n",
       "      <td>1500</td>\n",
       "      <td>146 Lochview Dr</td>\n",
       "      <td>Newport News</td>\n",
       "      <td>VA</td>\n",
       "      <td>37.0867</td>\n",
       "      <td>-76.4941</td>\n",
       "      <td>RentLingo</td>\n",
       "      <td>1577360340</td>\n",
       "    </tr>\n",
       "    <tr>\n",
       "      <th>2</th>\n",
       "      <td>5668639686</td>\n",
       "      <td>housing/rent/apartment</td>\n",
       "      <td>Three BR 3101 Morningside Drive</td>\n",
       "      <td>This unit is located at 3101 Morningside Drive...</td>\n",
       "      <td>NaN</td>\n",
       "      <td>2.0</td>\n",
       "      <td>3.0</td>\n",
       "      <td>USD</td>\n",
       "      <td>No</td>\n",
       "      <td>Thumbnail</td>\n",
       "      <td>...</td>\n",
       "      <td>$1,395</td>\n",
       "      <td>Monthly</td>\n",
       "      <td>1650</td>\n",
       "      <td>3101 Morningside Dr</td>\n",
       "      <td>Raleigh</td>\n",
       "      <td>NC</td>\n",
       "      <td>35.8230</td>\n",
       "      <td>-78.6438</td>\n",
       "      <td>RentLingo</td>\n",
       "      <td>1577360332</td>\n",
       "    </tr>\n",
       "    <tr>\n",
       "      <th>3</th>\n",
       "      <td>5668639659</td>\n",
       "      <td>housing/rent/apartment</td>\n",
       "      <td>Two BR 209 Aegean Way</td>\n",
       "      <td>This unit is located at 209 Aegean Way, Vacavi...</td>\n",
       "      <td>NaN</td>\n",
       "      <td>1.0</td>\n",
       "      <td>2.0</td>\n",
       "      <td>USD</td>\n",
       "      <td>No</td>\n",
       "      <td>Thumbnail</td>\n",
       "      <td>...</td>\n",
       "      <td>$1,600</td>\n",
       "      <td>Monthly</td>\n",
       "      <td>820</td>\n",
       "      <td>209 Aegean Way</td>\n",
       "      <td>Vacaville</td>\n",
       "      <td>CA</td>\n",
       "      <td>38.3622</td>\n",
       "      <td>-121.9712</td>\n",
       "      <td>RentLingo</td>\n",
       "      <td>1577360330</td>\n",
       "    </tr>\n",
       "    <tr>\n",
       "      <th>4</th>\n",
       "      <td>5668639374</td>\n",
       "      <td>housing/rent/apartment</td>\n",
       "      <td>One BR 4805 Marquette NE</td>\n",
       "      <td>This unit is located at 4805 Marquette NE, Alb...</td>\n",
       "      <td>NaN</td>\n",
       "      <td>1.0</td>\n",
       "      <td>1.0</td>\n",
       "      <td>USD</td>\n",
       "      <td>No</td>\n",
       "      <td>Thumbnail</td>\n",
       "      <td>...</td>\n",
       "      <td>$975</td>\n",
       "      <td>Monthly</td>\n",
       "      <td>624</td>\n",
       "      <td>4805 Marquette NE</td>\n",
       "      <td>Albuquerque</td>\n",
       "      <td>NM</td>\n",
       "      <td>35.1038</td>\n",
       "      <td>-106.6110</td>\n",
       "      <td>RentLingo</td>\n",
       "      <td>1577360308</td>\n",
       "    </tr>\n",
       "  </tbody>\n",
       "</table>\n",
       "<p>5 rows × 22 columns</p>\n",
       "</div>"
      ],
      "text/plain": [
       "           id                category                            title  \\\n",
       "0  5668640009  housing/rent/apartment       One BR 507 & 509 Esplanade   \n",
       "1  5668639818  housing/rent/apartment      Three BR 146 Lochview Drive   \n",
       "2  5668639686  housing/rent/apartment  Three BR 3101 Morningside Drive   \n",
       "3  5668639659  housing/rent/apartment            Two BR 209 Aegean Way   \n",
       "4  5668639374  housing/rent/apartment         One BR 4805 Marquette NE   \n",
       "\n",
       "                                                body amenities  bathrooms  \\\n",
       "0  This unit is located at 507 & 509 Esplanade, R...       NaN        1.0   \n",
       "1  This unit is located at 146 Lochview Drive, Ne...       NaN        1.5   \n",
       "2  This unit is located at 3101 Morningside Drive...       NaN        2.0   \n",
       "3  This unit is located at 209 Aegean Way, Vacavi...       NaN        1.0   \n",
       "4  This unit is located at 4805 Marquette NE, Alb...       NaN        1.0   \n",
       "\n",
       "   bedrooms currency fee  has_photo  ... price_display  price_type  \\\n",
       "0       1.0      USD  No  Thumbnail  ...        $2,195     Monthly   \n",
       "1       3.0      USD  No  Thumbnail  ...        $1,250     Monthly   \n",
       "2       3.0      USD  No  Thumbnail  ...        $1,395     Monthly   \n",
       "3       2.0      USD  No  Thumbnail  ...        $1,600     Monthly   \n",
       "4       1.0      USD  No  Thumbnail  ...          $975     Monthly   \n",
       "\n",
       "  square_feet              address       cityname state latitude longitude  \\\n",
       "0         542   507  509 Esplanade  Redondo Beach    CA  33.8520 -118.3759   \n",
       "1        1500      146 Lochview Dr   Newport News    VA  37.0867  -76.4941   \n",
       "2        1650  3101 Morningside Dr        Raleigh    NC  35.8230  -78.6438   \n",
       "3         820       209 Aegean Way      Vacaville    CA  38.3622 -121.9712   \n",
       "4         624    4805 Marquette NE    Albuquerque    NM  35.1038 -106.6110   \n",
       "\n",
       "      source        time  \n",
       "0  RentLingo  1577360355  \n",
       "1  RentLingo  1577360340  \n",
       "2  RentLingo  1577360332  \n",
       "3  RentLingo  1577360330  \n",
       "4  RentLingo  1577360308  \n",
       "\n",
       "[5 rows x 22 columns]"
      ]
     },
     "execution_count": 587,
     "metadata": {},
     "output_type": "execute_result"
    }
   ],
   "source": [
    "df.head()"
   ]
  },
  {
   "cell_type": "markdown",
   "metadata": {},
   "source": []
  },
  {
   "cell_type": "markdown",
   "metadata": {},
   "source": [
    "Last 5 rows of the data\n"
   ]
  },
  {
   "cell_type": "code",
   "execution_count": null,
   "metadata": {},
   "outputs": [
    {
     "data": {
      "text/html": [
       "<div>\n",
       "<style scoped>\n",
       "    .dataframe tbody tr th:only-of-type {\n",
       "        vertical-align: middle;\n",
       "    }\n",
       "\n",
       "    .dataframe tbody tr th {\n",
       "        vertical-align: top;\n",
       "    }\n",
       "\n",
       "    .dataframe thead th {\n",
       "        text-align: right;\n",
       "    }\n",
       "</style>\n",
       "<table border=\"1\" class=\"dataframe\">\n",
       "  <thead>\n",
       "    <tr style=\"text-align: right;\">\n",
       "      <th></th>\n",
       "      <th>id</th>\n",
       "      <th>category</th>\n",
       "      <th>title</th>\n",
       "      <th>body</th>\n",
       "      <th>amenities</th>\n",
       "      <th>bathrooms</th>\n",
       "      <th>bedrooms</th>\n",
       "      <th>currency</th>\n",
       "      <th>fee</th>\n",
       "      <th>has_photo</th>\n",
       "      <th>...</th>\n",
       "      <th>price_display</th>\n",
       "      <th>price_type</th>\n",
       "      <th>square_feet</th>\n",
       "      <th>address</th>\n",
       "      <th>cityname</th>\n",
       "      <th>state</th>\n",
       "      <th>latitude</th>\n",
       "      <th>longitude</th>\n",
       "      <th>source</th>\n",
       "      <th>time</th>\n",
       "    </tr>\n",
       "  </thead>\n",
       "  <tbody>\n",
       "    <tr>\n",
       "      <th>99487</th>\n",
       "      <td>5121219946</td>\n",
       "      <td>housing/rent/apartment</td>\n",
       "      <td>Houston - superb Apartment nearby fine dining</td>\n",
       "      <td>Redefining urban living, in southeast Houston,...</td>\n",
       "      <td>Gym,Parking,Patio/Deck,Playground,Storage,Wood...</td>\n",
       "      <td>1.0</td>\n",
       "      <td>1.0</td>\n",
       "      <td>USD</td>\n",
       "      <td>No</td>\n",
       "      <td>Yes</td>\n",
       "      <td>...</td>\n",
       "      <td>$780</td>\n",
       "      <td>Monthly</td>\n",
       "      <td>605</td>\n",
       "      <td>NaN</td>\n",
       "      <td>Houston</td>\n",
       "      <td>TX</td>\n",
       "      <td>29.6151</td>\n",
       "      <td>-95.1998</td>\n",
       "      <td>RentDigs.com</td>\n",
       "      <td>1544185770</td>\n",
       "    </tr>\n",
       "    <tr>\n",
       "      <th>99488</th>\n",
       "      <td>5121219696</td>\n",
       "      <td>housing/rent/apartment</td>\n",
       "      <td>The Best of the Best in the City of Jacksonvil...</td>\n",
       "      <td>Courtney Manor Apartments offer the best of ev...</td>\n",
       "      <td>AC,Cable or Satellite,Clubhouse,Dishwasher,Gym...</td>\n",
       "      <td>2.0</td>\n",
       "      <td>2.0</td>\n",
       "      <td>USD</td>\n",
       "      <td>No</td>\n",
       "      <td>Yes</td>\n",
       "      <td>...</td>\n",
       "      <td>$813</td>\n",
       "      <td>Monthly</td>\n",
       "      <td>921</td>\n",
       "      <td>NaN</td>\n",
       "      <td>Jacksonville</td>\n",
       "      <td>FL</td>\n",
       "      <td>30.2254</td>\n",
       "      <td>-81.7579</td>\n",
       "      <td>RentDigs.com</td>\n",
       "      <td>1544185750</td>\n",
       "    </tr>\n",
       "    <tr>\n",
       "      <th>99489</th>\n",
       "      <td>5121219420</td>\n",
       "      <td>housing/rent/apartment</td>\n",
       "      <td>A great &amp; large One BR apartment. Pet OK!</td>\n",
       "      <td>Fully remodeled, new floor, kitchen cabinet, s...</td>\n",
       "      <td>Garbage Disposal,Refrigerator</td>\n",
       "      <td>1.0</td>\n",
       "      <td>1.0</td>\n",
       "      <td>USD</td>\n",
       "      <td>No</td>\n",
       "      <td>Yes</td>\n",
       "      <td>...</td>\n",
       "      <td>$1,325</td>\n",
       "      <td>Monthly</td>\n",
       "      <td>650</td>\n",
       "      <td>NaN</td>\n",
       "      <td>San Diego</td>\n",
       "      <td>CA</td>\n",
       "      <td>32.7379</td>\n",
       "      <td>-117.0914</td>\n",
       "      <td>RentDigs.com</td>\n",
       "      <td>1544185729</td>\n",
       "    </tr>\n",
       "    <tr>\n",
       "      <th>99490</th>\n",
       "      <td>5121218935</td>\n",
       "      <td>housing/rent/apartment</td>\n",
       "      <td>The Crest offers studio, 1, 2 &amp; Three BR homes...</td>\n",
       "      <td>Amenities include a fitness facilities, swimmi...</td>\n",
       "      <td>Gym,Pool</td>\n",
       "      <td>1.0</td>\n",
       "      <td>1.0</td>\n",
       "      <td>USD</td>\n",
       "      <td>No</td>\n",
       "      <td>Yes</td>\n",
       "      <td>...</td>\n",
       "      <td>$931</td>\n",
       "      <td>Monthly</td>\n",
       "      <td>701</td>\n",
       "      <td>NaN</td>\n",
       "      <td>Huntersville</td>\n",
       "      <td>NC</td>\n",
       "      <td>35.4158</td>\n",
       "      <td>-80.8451</td>\n",
       "      <td>RentDigs.com</td>\n",
       "      <td>1544185670</td>\n",
       "    </tr>\n",
       "    <tr>\n",
       "      <th>99491</th>\n",
       "      <td>5121218844</td>\n",
       "      <td>housing/rent/apartment</td>\n",
       "      <td>Large Remodeled Two BR 1. Five BA Apartment Home</td>\n",
       "      <td>This is a brand new 2 Beds 1. five Bathrooms A...</td>\n",
       "      <td>Gated,Parking,Wood Floors</td>\n",
       "      <td>1.5</td>\n",
       "      <td>2.0</td>\n",
       "      <td>USD</td>\n",
       "      <td>No</td>\n",
       "      <td>Yes</td>\n",
       "      <td>...</td>\n",
       "      <td>$1,595</td>\n",
       "      <td>Monthly</td>\n",
       "      <td>900</td>\n",
       "      <td>NaN</td>\n",
       "      <td>San Diego</td>\n",
       "      <td>CA</td>\n",
       "      <td>32.7379</td>\n",
       "      <td>-117.0914</td>\n",
       "      <td>RentDigs.com</td>\n",
       "      <td>1544185659</td>\n",
       "    </tr>\n",
       "  </tbody>\n",
       "</table>\n",
       "<p>5 rows × 22 columns</p>\n",
       "</div>"
      ],
      "text/plain": [
       "               id                category  \\\n",
       "99487  5121219946  housing/rent/apartment   \n",
       "99488  5121219696  housing/rent/apartment   \n",
       "99489  5121219420  housing/rent/apartment   \n",
       "99490  5121218935  housing/rent/apartment   \n",
       "99491  5121218844  housing/rent/apartment   \n",
       "\n",
       "                                                   title  \\\n",
       "99487      Houston - superb Apartment nearby fine dining   \n",
       "99488  The Best of the Best in the City of Jacksonvil...   \n",
       "99489          A great & large One BR apartment. Pet OK!   \n",
       "99490  The Crest offers studio, 1, 2 & Three BR homes...   \n",
       "99491   Large Remodeled Two BR 1. Five BA Apartment Home   \n",
       "\n",
       "                                                    body  \\\n",
       "99487  Redefining urban living, in southeast Houston,...   \n",
       "99488  Courtney Manor Apartments offer the best of ev...   \n",
       "99489  Fully remodeled, new floor, kitchen cabinet, s...   \n",
       "99490  Amenities include a fitness facilities, swimmi...   \n",
       "99491  This is a brand new 2 Beds 1. five Bathrooms A...   \n",
       "\n",
       "                                               amenities  bathrooms  bedrooms  \\\n",
       "99487  Gym,Parking,Patio/Deck,Playground,Storage,Wood...        1.0       1.0   \n",
       "99488  AC,Cable or Satellite,Clubhouse,Dishwasher,Gym...        2.0       2.0   \n",
       "99489                      Garbage Disposal,Refrigerator        1.0       1.0   \n",
       "99490                                           Gym,Pool        1.0       1.0   \n",
       "99491                          Gated,Parking,Wood Floors        1.5       2.0   \n",
       "\n",
       "      currency fee has_photo  ... price_display  price_type square_feet  \\\n",
       "99487      USD  No       Yes  ...          $780     Monthly         605   \n",
       "99488      USD  No       Yes  ...          $813     Monthly         921   \n",
       "99489      USD  No       Yes  ...        $1,325     Monthly         650   \n",
       "99490      USD  No       Yes  ...          $931     Monthly         701   \n",
       "99491      USD  No       Yes  ...        $1,595     Monthly         900   \n",
       "\n",
       "      address      cityname state latitude longitude        source        time  \n",
       "99487     NaN       Houston    TX  29.6151  -95.1998  RentDigs.com  1544185770  \n",
       "99488     NaN  Jacksonville    FL  30.2254  -81.7579  RentDigs.com  1544185750  \n",
       "99489     NaN     San Diego    CA  32.7379 -117.0914  RentDigs.com  1544185729  \n",
       "99490     NaN  Huntersville    NC  35.4158  -80.8451  RentDigs.com  1544185670  \n",
       "99491     NaN     San Diego    CA  32.7379 -117.0914  RentDigs.com  1544185659  \n",
       "\n",
       "[5 rows x 22 columns]"
      ]
     },
     "execution_count": 588,
     "metadata": {},
     "output_type": "execute_result"
    }
   ],
   "source": [
    "df.tail()"
   ]
  },
  {
   "cell_type": "markdown",
   "metadata": {},
   "source": [
    "# Data cleaning"
   ]
  },
  {
   "cell_type": "markdown",
   "metadata": {},
   "source": [
    "Check for duplicates, find out there are existing 84 duplicates "
   ]
  },
  {
   "cell_type": "code",
   "execution_count": null,
   "metadata": {},
   "outputs": [
    {
     "data": {
      "text/plain": [
       "84"
      ]
     },
     "execution_count": 589,
     "metadata": {},
     "output_type": "execute_result"
    }
   ],
   "source": [
    "df.duplicated().sum()\n"
   ]
  },
  {
   "cell_type": "markdown",
   "metadata": {},
   "source": [
    "We try to print all the duplicates rows to find out what they are. Which shows they have same id and same features in different rows."
   ]
  },
  {
   "cell_type": "code",
   "execution_count": null,
   "metadata": {},
   "outputs": [
    {
     "data": {
      "text/html": [
       "<div>\n",
       "<style scoped>\n",
       "    .dataframe tbody tr th:only-of-type {\n",
       "        vertical-align: middle;\n",
       "    }\n",
       "\n",
       "    .dataframe tbody tr th {\n",
       "        vertical-align: top;\n",
       "    }\n",
       "\n",
       "    .dataframe thead th {\n",
       "        text-align: right;\n",
       "    }\n",
       "</style>\n",
       "<table border=\"1\" class=\"dataframe\">\n",
       "  <thead>\n",
       "    <tr style=\"text-align: right;\">\n",
       "      <th></th>\n",
       "      <th>id</th>\n",
       "      <th>category</th>\n",
       "      <th>title</th>\n",
       "      <th>body</th>\n",
       "      <th>amenities</th>\n",
       "      <th>bathrooms</th>\n",
       "      <th>bedrooms</th>\n",
       "      <th>currency</th>\n",
       "      <th>fee</th>\n",
       "      <th>has_photo</th>\n",
       "      <th>...</th>\n",
       "      <th>price_type</th>\n",
       "      <th>square_feet</th>\n",
       "      <th>address</th>\n",
       "      <th>cityname</th>\n",
       "      <th>state</th>\n",
       "      <th>latitude</th>\n",
       "      <th>longitude</th>\n",
       "      <th>source</th>\n",
       "      <th>time</th>\n",
       "      <th>Duplicated</th>\n",
       "    </tr>\n",
       "  </thead>\n",
       "  <tbody>\n",
       "    <tr>\n",
       "      <th>79465</th>\n",
       "      <td>5195387513</td>\n",
       "      <td>housing/rent/apartment</td>\n",
       "      <td>Townhome like Duplex</td>\n",
       "      <td>Lemon Grove two Level Upgraded 2 Beds attached...</td>\n",
       "      <td>Dishwasher,Washer Dryer</td>\n",
       "      <td>1.5</td>\n",
       "      <td>2.0</td>\n",
       "      <td>USD</td>\n",
       "      <td>No</td>\n",
       "      <td>Thumbnail</td>\n",
       "      <td>...</td>\n",
       "      <td>Monthly</td>\n",
       "      <td>820</td>\n",
       "      <td>7241 Balkis</td>\n",
       "      <td>Lemon Grove</td>\n",
       "      <td>CA</td>\n",
       "      <td>32.7331</td>\n",
       "      <td>-117.0332</td>\n",
       "      <td>RentDigs.com</td>\n",
       "      <td>1550653888</td>\n",
       "      <td>True</td>\n",
       "    </tr>\n",
       "    <tr>\n",
       "      <th>83210</th>\n",
       "      <td>5195387513</td>\n",
       "      <td>housing/rent/apartment</td>\n",
       "      <td>Townhome like Duplex</td>\n",
       "      <td>Lemon Grove two Level Upgraded 2 Beds attached...</td>\n",
       "      <td>Dishwasher,Washer Dryer</td>\n",
       "      <td>1.5</td>\n",
       "      <td>2.0</td>\n",
       "      <td>USD</td>\n",
       "      <td>No</td>\n",
       "      <td>Thumbnail</td>\n",
       "      <td>...</td>\n",
       "      <td>Monthly</td>\n",
       "      <td>820</td>\n",
       "      <td>7241 Balkis</td>\n",
       "      <td>Lemon Grove</td>\n",
       "      <td>CA</td>\n",
       "      <td>32.7331</td>\n",
       "      <td>-117.0332</td>\n",
       "      <td>RentDigs.com</td>\n",
       "      <td>1550653888</td>\n",
       "      <td>True</td>\n",
       "    </tr>\n",
       "    <tr>\n",
       "      <th>79464</th>\n",
       "      <td>5197678700</td>\n",
       "      <td>housing/rent/apartment</td>\n",
       "      <td>This Apartment is a must see!</td>\n",
       "      <td>Square footage: 983 square ft, unit number: 07...</td>\n",
       "      <td>NaN</td>\n",
       "      <td>1.0</td>\n",
       "      <td>3.0</td>\n",
       "      <td>USD</td>\n",
       "      <td>No</td>\n",
       "      <td>Yes</td>\n",
       "      <td>...</td>\n",
       "      <td>Monthly</td>\n",
       "      <td>983</td>\n",
       "      <td>NaN</td>\n",
       "      <td>Memphis</td>\n",
       "      <td>TN</td>\n",
       "      <td>35.1478</td>\n",
       "      <td>-90.0521</td>\n",
       "      <td>RentDigs.com</td>\n",
       "      <td>1550812916</td>\n",
       "      <td>True</td>\n",
       "    </tr>\n",
       "    <tr>\n",
       "      <th>83209</th>\n",
       "      <td>5197678700</td>\n",
       "      <td>housing/rent/apartment</td>\n",
       "      <td>This Apartment is a must see!</td>\n",
       "      <td>Square footage: 983 square ft, unit number: 07...</td>\n",
       "      <td>NaN</td>\n",
       "      <td>1.0</td>\n",
       "      <td>3.0</td>\n",
       "      <td>USD</td>\n",
       "      <td>No</td>\n",
       "      <td>Yes</td>\n",
       "      <td>...</td>\n",
       "      <td>Monthly</td>\n",
       "      <td>983</td>\n",
       "      <td>NaN</td>\n",
       "      <td>Memphis</td>\n",
       "      <td>TN</td>\n",
       "      <td>35.1478</td>\n",
       "      <td>-90.0521</td>\n",
       "      <td>RentDigs.com</td>\n",
       "      <td>1550812916</td>\n",
       "      <td>True</td>\n",
       "    </tr>\n",
       "    <tr>\n",
       "      <th>79463</th>\n",
       "      <td>5197682059</td>\n",
       "      <td>housing/rent/apartment</td>\n",
       "      <td>Spacious One BR, One BA</td>\n",
       "      <td>The of Olathe, a great you canhome where we ta...</td>\n",
       "      <td>Gym,Playground,Pool</td>\n",
       "      <td>1.0</td>\n",
       "      <td>1.0</td>\n",
       "      <td>USD</td>\n",
       "      <td>No</td>\n",
       "      <td>Yes</td>\n",
       "      <td>...</td>\n",
       "      <td>Monthly</td>\n",
       "      <td>660</td>\n",
       "      <td>NaN</td>\n",
       "      <td>Olathe</td>\n",
       "      <td>KS</td>\n",
       "      <td>38.8843</td>\n",
       "      <td>-94.8710</td>\n",
       "      <td>RentDigs.com</td>\n",
       "      <td>1550813171</td>\n",
       "      <td>True</td>\n",
       "    </tr>\n",
       "    <tr>\n",
       "      <th>...</th>\n",
       "      <td>...</td>\n",
       "      <td>...</td>\n",
       "      <td>...</td>\n",
       "      <td>...</td>\n",
       "      <td>...</td>\n",
       "      <td>...</td>\n",
       "      <td>...</td>\n",
       "      <td>...</td>\n",
       "      <td>...</td>\n",
       "      <td>...</td>\n",
       "      <td>...</td>\n",
       "      <td>...</td>\n",
       "      <td>...</td>\n",
       "      <td>...</td>\n",
       "      <td>...</td>\n",
       "      <td>...</td>\n",
       "      <td>...</td>\n",
       "      <td>...</td>\n",
       "      <td>...</td>\n",
       "      <td>...</td>\n",
       "      <td>...</td>\n",
       "    </tr>\n",
       "    <tr>\n",
       "      <th>41960</th>\n",
       "      <td>5508806391</td>\n",
       "      <td>housing/rent/apartment</td>\n",
       "      <td>Apartment in move in condition in District Hei...</td>\n",
       "      <td>Capital Courts has something for everyone. Loc...</td>\n",
       "      <td>AC,Parking,Playground,Pool</td>\n",
       "      <td>1.5</td>\n",
       "      <td>3.0</td>\n",
       "      <td>USD</td>\n",
       "      <td>No</td>\n",
       "      <td>Yes</td>\n",
       "      <td>...</td>\n",
       "      <td>Monthly</td>\n",
       "      <td>943</td>\n",
       "      <td>NaN</td>\n",
       "      <td>District Heights</td>\n",
       "      <td>MD</td>\n",
       "      <td>38.8516</td>\n",
       "      <td>-76.8871</td>\n",
       "      <td>RentDigs.com</td>\n",
       "      <td>1568754069</td>\n",
       "      <td>True</td>\n",
       "    </tr>\n",
       "    <tr>\n",
       "      <th>41959</th>\n",
       "      <td>5508806428</td>\n",
       "      <td>housing/rent/apartment</td>\n",
       "      <td>Northglenn Value. Pet OK!</td>\n",
       "      <td>Square footage: 738 square ft, unit number: 06...</td>\n",
       "      <td>Gym,Parking,Pool,Storage</td>\n",
       "      <td>1.0</td>\n",
       "      <td>1.0</td>\n",
       "      <td>USD</td>\n",
       "      <td>No</td>\n",
       "      <td>Yes</td>\n",
       "      <td>...</td>\n",
       "      <td>Monthly</td>\n",
       "      <td>738</td>\n",
       "      <td>NaN</td>\n",
       "      <td>Northglenn</td>\n",
       "      <td>CO</td>\n",
       "      <td>39.8999</td>\n",
       "      <td>-104.9442</td>\n",
       "      <td>RentDigs.com</td>\n",
       "      <td>1568754072</td>\n",
       "      <td>True</td>\n",
       "    </tr>\n",
       "    <tr>\n",
       "      <th>41915</th>\n",
       "      <td>5508806428</td>\n",
       "      <td>housing/rent/apartment</td>\n",
       "      <td>Northglenn Value. Pet OK!</td>\n",
       "      <td>Square footage: 738 square ft, unit number: 06...</td>\n",
       "      <td>Gym,Parking,Pool,Storage</td>\n",
       "      <td>1.0</td>\n",
       "      <td>1.0</td>\n",
       "      <td>USD</td>\n",
       "      <td>No</td>\n",
       "      <td>Yes</td>\n",
       "      <td>...</td>\n",
       "      <td>Monthly</td>\n",
       "      <td>738</td>\n",
       "      <td>NaN</td>\n",
       "      <td>Northglenn</td>\n",
       "      <td>CO</td>\n",
       "      <td>39.8999</td>\n",
       "      <td>-104.9442</td>\n",
       "      <td>RentDigs.com</td>\n",
       "      <td>1568754072</td>\n",
       "      <td>True</td>\n",
       "    </tr>\n",
       "    <tr>\n",
       "      <th>41958</th>\n",
       "      <td>5508806580</td>\n",
       "      <td>housing/rent/apartment</td>\n",
       "      <td>Las Vegas, prime location Two BR, Apartment. P...</td>\n",
       "      <td>Live in the middle of it all! South is a pet f...</td>\n",
       "      <td>Gym,Parking,Pool</td>\n",
       "      <td>2.0</td>\n",
       "      <td>2.0</td>\n",
       "      <td>USD</td>\n",
       "      <td>No</td>\n",
       "      <td>Yes</td>\n",
       "      <td>...</td>\n",
       "      <td>Monthly</td>\n",
       "      <td>1084</td>\n",
       "      <td>NaN</td>\n",
       "      <td>Las Vegas</td>\n",
       "      <td>NV</td>\n",
       "      <td>36.1536</td>\n",
       "      <td>-115.1965</td>\n",
       "      <td>RentDigs.com</td>\n",
       "      <td>1568754086</td>\n",
       "      <td>True</td>\n",
       "    </tr>\n",
       "    <tr>\n",
       "      <th>41914</th>\n",
       "      <td>5508806580</td>\n",
       "      <td>housing/rent/apartment</td>\n",
       "      <td>Las Vegas, prime location Two BR, Apartment. P...</td>\n",
       "      <td>Live in the middle of it all! South is a pet f...</td>\n",
       "      <td>Gym,Parking,Pool</td>\n",
       "      <td>2.0</td>\n",
       "      <td>2.0</td>\n",
       "      <td>USD</td>\n",
       "      <td>No</td>\n",
       "      <td>Yes</td>\n",
       "      <td>...</td>\n",
       "      <td>Monthly</td>\n",
       "      <td>1084</td>\n",
       "      <td>NaN</td>\n",
       "      <td>Las Vegas</td>\n",
       "      <td>NV</td>\n",
       "      <td>36.1536</td>\n",
       "      <td>-115.1965</td>\n",
       "      <td>RentDigs.com</td>\n",
       "      <td>1568754086</td>\n",
       "      <td>True</td>\n",
       "    </tr>\n",
       "  </tbody>\n",
       "</table>\n",
       "<p>168 rows × 23 columns</p>\n",
       "</div>"
      ],
      "text/plain": [
       "               id                category  \\\n",
       "79465  5195387513  housing/rent/apartment   \n",
       "83210  5195387513  housing/rent/apartment   \n",
       "79464  5197678700  housing/rent/apartment   \n",
       "83209  5197678700  housing/rent/apartment   \n",
       "79463  5197682059  housing/rent/apartment   \n",
       "...           ...                     ...   \n",
       "41960  5508806391  housing/rent/apartment   \n",
       "41959  5508806428  housing/rent/apartment   \n",
       "41915  5508806428  housing/rent/apartment   \n",
       "41958  5508806580  housing/rent/apartment   \n",
       "41914  5508806580  housing/rent/apartment   \n",
       "\n",
       "                                                   title  \\\n",
       "79465                               Townhome like Duplex   \n",
       "83210                               Townhome like Duplex   \n",
       "79464                      This Apartment is a must see!   \n",
       "83209                      This Apartment is a must see!   \n",
       "79463                            Spacious One BR, One BA   \n",
       "...                                                  ...   \n",
       "41960  Apartment in move in condition in District Hei...   \n",
       "41959                          Northglenn Value. Pet OK!   \n",
       "41915                          Northglenn Value. Pet OK!   \n",
       "41958  Las Vegas, prime location Two BR, Apartment. P...   \n",
       "41914  Las Vegas, prime location Two BR, Apartment. P...   \n",
       "\n",
       "                                                    body  \\\n",
       "79465  Lemon Grove two Level Upgraded 2 Beds attached...   \n",
       "83210  Lemon Grove two Level Upgraded 2 Beds attached...   \n",
       "79464  Square footage: 983 square ft, unit number: 07...   \n",
       "83209  Square footage: 983 square ft, unit number: 07...   \n",
       "79463  The of Olathe, a great you canhome where we ta...   \n",
       "...                                                  ...   \n",
       "41960  Capital Courts has something for everyone. Loc...   \n",
       "41959  Square footage: 738 square ft, unit number: 06...   \n",
       "41915  Square footage: 738 square ft, unit number: 06...   \n",
       "41958  Live in the middle of it all! South is a pet f...   \n",
       "41914  Live in the middle of it all! South is a pet f...   \n",
       "\n",
       "                        amenities  bathrooms  bedrooms currency fee  \\\n",
       "79465     Dishwasher,Washer Dryer        1.5       2.0      USD  No   \n",
       "83210     Dishwasher,Washer Dryer        1.5       2.0      USD  No   \n",
       "79464                         NaN        1.0       3.0      USD  No   \n",
       "83209                         NaN        1.0       3.0      USD  No   \n",
       "79463         Gym,Playground,Pool        1.0       1.0      USD  No   \n",
       "...                           ...        ...       ...      ...  ..   \n",
       "41960  AC,Parking,Playground,Pool        1.5       3.0      USD  No   \n",
       "41959    Gym,Parking,Pool,Storage        1.0       1.0      USD  No   \n",
       "41915    Gym,Parking,Pool,Storage        1.0       1.0      USD  No   \n",
       "41958            Gym,Parking,Pool        2.0       2.0      USD  No   \n",
       "41914            Gym,Parking,Pool        2.0       2.0      USD  No   \n",
       "\n",
       "       has_photo  ... price_type  square_feet      address          cityname  \\\n",
       "79465  Thumbnail  ...    Monthly          820  7241 Balkis       Lemon Grove   \n",
       "83210  Thumbnail  ...    Monthly          820  7241 Balkis       Lemon Grove   \n",
       "79464        Yes  ...    Monthly          983          NaN           Memphis   \n",
       "83209        Yes  ...    Monthly          983          NaN           Memphis   \n",
       "79463        Yes  ...    Monthly          660          NaN            Olathe   \n",
       "...          ...  ...        ...          ...          ...               ...   \n",
       "41960        Yes  ...    Monthly          943          NaN  District Heights   \n",
       "41959        Yes  ...    Monthly          738          NaN        Northglenn   \n",
       "41915        Yes  ...    Monthly          738          NaN        Northglenn   \n",
       "41958        Yes  ...    Monthly         1084          NaN         Las Vegas   \n",
       "41914        Yes  ...    Monthly         1084          NaN         Las Vegas   \n",
       "\n",
       "       state latitude longitude        source        time  Duplicated  \n",
       "79465     CA  32.7331 -117.0332  RentDigs.com  1550653888        True  \n",
       "83210     CA  32.7331 -117.0332  RentDigs.com  1550653888        True  \n",
       "79464     TN  35.1478  -90.0521  RentDigs.com  1550812916        True  \n",
       "83209     TN  35.1478  -90.0521  RentDigs.com  1550812916        True  \n",
       "79463     KS  38.8843  -94.8710  RentDigs.com  1550813171        True  \n",
       "...      ...      ...       ...           ...         ...         ...  \n",
       "41960     MD  38.8516  -76.8871  RentDigs.com  1568754069        True  \n",
       "41959     CO  39.8999 -104.9442  RentDigs.com  1568754072        True  \n",
       "41915     CO  39.8999 -104.9442  RentDigs.com  1568754072        True  \n",
       "41958     NV  36.1536 -115.1965  RentDigs.com  1568754086        True  \n",
       "41914     NV  36.1536 -115.1965  RentDigs.com  1568754086        True  \n",
       "\n",
       "[168 rows x 23 columns]"
      ]
     },
     "execution_count": 590,
     "metadata": {},
     "output_type": "execute_result"
    }
   ],
   "source": [
    "df['Duplicated'] = df.duplicated(keep=False)\n",
    "df[df['Duplicated']==True].sort_values(by='id')"
   ]
  },
  {
   "cell_type": "markdown",
   "metadata": {},
   "source": [
    "Drop duplicate and check if the analyse correct.\n",
    "we find out 99492 - 84 = 99408. so the drop operation is correct."
   ]
  },
  {
   "cell_type": "code",
   "execution_count": null,
   "metadata": {},
   "outputs": [],
   "source": [
    "df = df.drop('Duplicated', axis=1)\n",
    "ndf = df.drop_duplicates()"
   ]
  },
  {
   "cell_type": "code",
   "execution_count": null,
   "metadata": {},
   "outputs": [
    {
     "data": {
      "text/plain": [
       "(99492, 22)"
      ]
     },
     "execution_count": 592,
     "metadata": {},
     "output_type": "execute_result"
    }
   ],
   "source": [
    "df.shape"
   ]
  },
  {
   "cell_type": "code",
   "execution_count": null,
   "metadata": {},
   "outputs": [
    {
     "data": {
      "text/plain": [
       "(99408, 22)"
      ]
     },
     "execution_count": 593,
     "metadata": {},
     "output_type": "execute_result"
    }
   ],
   "source": [
    "ndf.shape"
   ]
  },
  {
   "cell_type": "code",
   "execution_count": null,
   "metadata": {},
   "outputs": [],
   "source": [
    "df = ndf"
   ]
  },
  {
   "cell_type": "code",
   "execution_count": null,
   "metadata": {},
   "outputs": [],
   "source": []
  },
  {
   "cell_type": "code",
   "execution_count": null,
   "metadata": {},
   "outputs": [
    {
     "data": {
      "text/plain": [
       "1.0    56262\n",
       "2.0    36538\n",
       "1.5     3167\n",
       "2.5     2079\n",
       "3.0      889\n",
       "3.5      208\n",
       "4.0      120\n",
       "4.5       42\n",
       "5.0       20\n",
       "6.0        8\n",
       "5.5        4\n",
       "7.0        3\n",
       "8.0        2\n",
       "9.0        1\n",
       "7.5        1\n",
       "8.5        1\n",
       "Name: bathrooms, dtype: int64"
      ]
     },
     "execution_count": 595,
     "metadata": {},
     "output_type": "execute_result"
    }
   ],
   "source": [
    "df.bathrooms.value_counts()"
   ]
  },
  {
   "cell_type": "markdown",
   "metadata": {},
   "source": [
    "At first I thought there is a mistake of thee numbers of bathrooms is a integer. \n",
    "\n",
    "\n",
    "After a research, I found out that the number of bathrooms decimal 0.5 means half-bathroom, which means the data is correct.\n",
    "\n",
    "And there are no 0 to represent no provision."
   ]
  },
  {
   "cell_type": "code",
   "execution_count": null,
   "metadata": {},
   "outputs": [
    {
     "data": {
      "text/plain": [
       "2.0    45928\n",
       "1.0    40305\n",
       "3.0    10551\n",
       "4.0     1498\n",
       "0.0      661\n",
       "5.0      286\n",
       "6.0       47\n",
       "7.0        4\n",
       "8.0        3\n",
       "9.0        1\n",
       "Name: bedrooms, dtype: int64"
      ]
     },
     "execution_count": 596,
     "metadata": {},
     "output_type": "execute_result"
    }
   ],
   "source": [
    "df.bedrooms.value_counts()"
   ]
  },
  {
   "cell_type": "code",
   "execution_count": null,
   "metadata": {},
   "outputs": [
    {
     "data": {
      "text/plain": [
       "housing/rent/apartment            99347\n",
       "housing/rent/commercial/retail       42\n",
       "housing/rent                          7\n",
       "housing/rent/short_term               4\n",
       "housing/rent/home                     4\n",
       "housing/rent/condo                    3\n",
       "housing/rent/other                    1\n",
       "Name: category, dtype: int64"
      ]
     },
     "execution_count": 597,
     "metadata": {},
     "output_type": "execute_result"
    }
   ],
   "source": [
    "df.category.value_counts()"
   ]
  },
  {
   "cell_type": "markdown",
   "metadata": {},
   "source": [
    "Check for missing values, and find out there are existing missing values in some features.\n",
    "\n",
    "\n",
    "Noticing some of the features are meaningful and need to be processed like address, cityname, latitude, longitude and state.\n",
    "\n",
    "\n",
    "While some of the missing value like bathrooms, bedrooms, amenities, pet_allowed represent no provision which is reasonalbe and we only need to replace some of the missing value with some meaningful value."
   ]
  },
  {
   "cell_type": "code",
   "execution_count": null,
   "metadata": {},
   "outputs": [
    {
     "data": {
      "text/plain": [
       "id                   0\n",
       "category             0\n",
       "title                0\n",
       "body                 0\n",
       "amenities        16034\n",
       "bathrooms           63\n",
       "bedrooms           124\n",
       "currency             0\n",
       "fee                  0\n",
       "has_photo            0\n",
       "pets_allowed     60374\n",
       "price                1\n",
       "price_display        1\n",
       "price_type           0\n",
       "square_feet          0\n",
       "address          91466\n",
       "cityname           302\n",
       "state              302\n",
       "latitude            25\n",
       "longitude           25\n",
       "source               0\n",
       "time                 0\n",
       "dtype: int64"
      ]
     },
     "execution_count": 598,
     "metadata": {},
     "output_type": "execute_result"
    }
   ],
   "source": [
    "df.isnull().sum()"
   ]
  },
  {
   "cell_type": "markdown",
   "metadata": {},
   "source": [
    "Considering most of the data rows address are \"NAN\"，and we can analyse the geographical information by using cityname, state，longitude and latitude. so, we just drop all the columns of address."
   ]
  },
  {
   "cell_type": "code",
   "execution_count": null,
   "metadata": {},
   "outputs": [
    {
     "data": {
      "text/plain": [
       "(99408, 21)"
      ]
     },
     "execution_count": 599,
     "metadata": {},
     "output_type": "execute_result"
    }
   ],
   "source": [
    "df = df.drop('address', axis=1)\n",
    "df.shape"
   ]
  },
  {
   "cell_type": "markdown",
   "metadata": {},
   "source": [
    "Considering only a small porpotion of data rows have missing values in longitude and latitude, cityname and state we just drop these rows."
   ]
  },
  {
   "cell_type": "code",
   "execution_count": null,
   "metadata": {},
   "outputs": [
    {
     "data": {
      "text/plain": [
       "(99106, 21)"
      ]
     },
     "execution_count": 600,
     "metadata": {},
     "output_type": "execute_result"
    }
   ],
   "source": [
    "df = df.dropna(axis=0,subset = [\"latitude\", \"longitude\",'cityname','state'])   # drop the rows which have 'NAN' value in longitude and latitude, cityname and state\n",
    "df.shape"
   ]
  },
  {
   "cell_type": "markdown",
   "metadata": {},
   "source": [
    "Considering the data rows with missing values in bedrooms, bathrooms,  we just replace these missing values with 0.\n",
    "\n",
    "and amenities and pets_allowed, we just replace these missing values with \"NONE\".\n"
   ]
  },
  {
   "cell_type": "code",
   "execution_count": null,
   "metadata": {},
   "outputs": [
    {
     "data": {
      "text/plain": [
       "id               0\n",
       "category         0\n",
       "title            0\n",
       "body             0\n",
       "amenities        0\n",
       "bathrooms        0\n",
       "bedrooms         0\n",
       "currency         0\n",
       "fee              0\n",
       "has_photo        0\n",
       "pets_allowed     0\n",
       "price            1\n",
       "price_display    1\n",
       "price_type       0\n",
       "square_feet      0\n",
       "cityname         0\n",
       "state            0\n",
       "latitude         0\n",
       "longitude        0\n",
       "source           0\n",
       "time             0\n",
       "dtype: int64"
      ]
     },
     "execution_count": 601,
     "metadata": {},
     "output_type": "execute_result"
    }
   ],
   "source": [
    "df['bedrooms'].fillna(0, inplace=True) \n",
    "df['bathrooms'].fillna(0, inplace=True)\n",
    "df['amenities'].fillna(\"NONE\", inplace=True)\n",
    "df['pets_allowed'].fillna(\"Not_allowed\", inplace=True)\n",
    "df.isnull().sum()"
   ]
  },
  {
   "cell_type": "markdown",
   "metadata": {},
   "source": [
    "Drop the rows which have missing values in price and price_display."
   ]
  },
  {
   "cell_type": "code",
   "execution_count": null,
   "metadata": {},
   "outputs": [
    {
     "data": {
      "text/plain": [
       "id               0\n",
       "category         0\n",
       "title            0\n",
       "body             0\n",
       "amenities        0\n",
       "bathrooms        0\n",
       "bedrooms         0\n",
       "currency         0\n",
       "fee              0\n",
       "has_photo        0\n",
       "pets_allowed     0\n",
       "price            0\n",
       "price_display    0\n",
       "price_type       0\n",
       "square_feet      0\n",
       "cityname         0\n",
       "state            0\n",
       "latitude         0\n",
       "longitude        0\n",
       "source           0\n",
       "time             0\n",
       "dtype: int64"
      ]
     },
     "execution_count": 602,
     "metadata": {},
     "output_type": "execute_result"
    }
   ],
   "source": [
    "df = df.dropna(axis=0,subset = [\"price\", \"price_display\"]) \n",
    "df.isnull().sum()"
   ]
  },
  {
   "cell_type": "markdown",
   "metadata": {},
   "source": [
    "Check for outliers，it is not visualize in the boxplot gragh."
   ]
  },
  {
   "cell_type": "code",
   "execution_count": null,
   "metadata": {},
   "outputs": [
    {
     "data": {
      "text/plain": [
       "<matplotlib.axes._subplots.AxesSubplot at 0x1fe892e3630>"
      ]
     },
     "execution_count": 603,
     "metadata": {},
     "output_type": "execute_result"
    },
    {
     "data": {
      "image/png": "[encoded data removed]",
      "text/plain": [
       "<Figure size 432x288 with 1 Axes>"
      ]
     },
     "metadata": {
      "needs_background": "light"
     },
     "output_type": "display_data"
    }
   ],
   "source": [
    "sns.boxplot(data=df)"
   ]
  },
  {
   "cell_type": "markdown",
   "metadata": {},
   "source": [
    " So, we summary statistics and observe the global feature of the data, try to find out the relationship and distribution among the features, find the outliers, and try to process the data."
   ]
  },
  {
   "cell_type": "code",
   "execution_count": null,
   "metadata": {},
   "outputs": [
    {
     "data": {
      "text/html": [
       "<div>\n",
       "<style scoped>\n",
       "    .dataframe tbody tr th:only-of-type {\n",
       "        vertical-align: middle;\n",
       "    }\n",
       "\n",
       "    .dataframe tbody tr th {\n",
       "        vertical-align: top;\n",
       "    }\n",
       "\n",
       "    .dataframe thead th {\n",
       "        text-align: right;\n",
       "    }\n",
       "</style>\n",
       "<table border=\"1\" class=\"dataframe\">\n",
       "  <thead>\n",
       "    <tr style=\"text-align: right;\">\n",
       "      <th></th>\n",
       "      <th>id</th>\n",
       "      <th>bathrooms</th>\n",
       "      <th>bedrooms</th>\n",
       "      <th>price</th>\n",
       "      <th>square_feet</th>\n",
       "      <th>latitude</th>\n",
       "      <th>longitude</th>\n",
       "      <th>time</th>\n",
       "    </tr>\n",
       "  </thead>\n",
       "  <tbody>\n",
       "    <tr>\n",
       "      <th>count</th>\n",
       "      <td>9.910500e+04</td>\n",
       "      <td>99105.000000</td>\n",
       "      <td>99105.000000</td>\n",
       "      <td>99105.000000</td>\n",
       "      <td>99105.000000</td>\n",
       "      <td>99105.000000</td>\n",
       "      <td>99105.000000</td>\n",
       "      <td>9.910500e+04</td>\n",
       "    </tr>\n",
       "    <tr>\n",
       "      <th>mean</th>\n",
       "      <td>5.358114e+09</td>\n",
       "      <td>1.444554</td>\n",
       "      <td>1.726179</td>\n",
       "      <td>1525.507694</td>\n",
       "      <td>955.996045</td>\n",
       "      <td>36.941309</td>\n",
       "      <td>-91.555552</td>\n",
       "      <td>1.559652e+09</td>\n",
       "    </tr>\n",
       "    <tr>\n",
       "      <th>std</th>\n",
       "      <td>1.846979e+08</td>\n",
       "      <td>0.548101</td>\n",
       "      <td>0.751158</td>\n",
       "      <td>903.660869</td>\n",
       "      <td>387.732138</td>\n",
       "      <td>4.604559</td>\n",
       "      <td>15.832541</td>\n",
       "      <td>1.105025e+07</td>\n",
       "    </tr>\n",
       "    <tr>\n",
       "      <th>min</th>\n",
       "      <td>5.121046e+09</td>\n",
       "      <td>0.000000</td>\n",
       "      <td>0.000000</td>\n",
       "      <td>100.000000</td>\n",
       "      <td>101.000000</td>\n",
       "      <td>19.573800</td>\n",
       "      <td>-159.369800</td>\n",
       "      <td>1.544174e+09</td>\n",
       "    </tr>\n",
       "    <tr>\n",
       "      <th>25%</th>\n",
       "      <td>5.197948e+09</td>\n",
       "      <td>1.000000</td>\n",
       "      <td>1.000000</td>\n",
       "      <td>1012.000000</td>\n",
       "      <td>729.000000</td>\n",
       "      <td>33.743600</td>\n",
       "      <td>-104.817100</td>\n",
       "      <td>1.550832e+09</td>\n",
       "    </tr>\n",
       "    <tr>\n",
       "      <th>50%</th>\n",
       "      <td>5.508672e+09</td>\n",
       "      <td>1.000000</td>\n",
       "      <td>2.000000</td>\n",
       "      <td>1350.000000</td>\n",
       "      <td>900.000000</td>\n",
       "      <td>37.213900</td>\n",
       "      <td>-84.549400</td>\n",
       "      <td>1.568745e+09</td>\n",
       "    </tr>\n",
       "    <tr>\n",
       "      <th>75%</th>\n",
       "      <td>5.509006e+09</td>\n",
       "      <td>2.000000</td>\n",
       "      <td>2.000000</td>\n",
       "      <td>1795.000000</td>\n",
       "      <td>1115.000000</td>\n",
       "      <td>39.955900</td>\n",
       "      <td>-77.576700</td>\n",
       "      <td>1.568767e+09</td>\n",
       "    </tr>\n",
       "    <tr>\n",
       "      <th>max</th>\n",
       "      <td>5.669439e+09</td>\n",
       "      <td>9.000000</td>\n",
       "      <td>9.000000</td>\n",
       "      <td>52500.000000</td>\n",
       "      <td>40000.000000</td>\n",
       "      <td>64.833200</td>\n",
       "      <td>-68.778800</td>\n",
       "      <td>1.577391e+09</td>\n",
       "    </tr>\n",
       "  </tbody>\n",
       "</table>\n",
       "</div>"
      ],
      "text/plain": [
       "                 id     bathrooms      bedrooms         price   square_feet  \\\n",
       "count  9.910500e+04  99105.000000  99105.000000  99105.000000  99105.000000   \n",
       "mean   5.358114e+09      1.444554      1.726179   1525.507694    955.996045   \n",
       "std    1.846979e+08      0.548101      0.751158    903.660869    387.732138   \n",
       "min    5.121046e+09      0.000000      0.000000    100.000000    101.000000   \n",
       "25%    5.197948e+09      1.000000      1.000000   1012.000000    729.000000   \n",
       "50%    5.508672e+09      1.000000      2.000000   1350.000000    900.000000   \n",
       "75%    5.509006e+09      2.000000      2.000000   1795.000000   1115.000000   \n",
       "max    5.669439e+09      9.000000      9.000000  52500.000000  40000.000000   \n",
       "\n",
       "           latitude     longitude          time  \n",
       "count  99105.000000  99105.000000  9.910500e+04  \n",
       "mean      36.941309    -91.555552  1.559652e+09  \n",
       "std        4.604559     15.832541  1.105025e+07  \n",
       "min       19.573800   -159.369800  1.544174e+09  \n",
       "25%       33.743600   -104.817100  1.550832e+09  \n",
       "50%       37.213900    -84.549400  1.568745e+09  \n",
       "75%       39.955900    -77.576700  1.568767e+09  \n",
       "max       64.833200    -68.778800  1.577391e+09  "
      ]
     },
     "execution_count": 604,
     "metadata": {},
     "output_type": "execute_result"
    }
   ],
   "source": [
    "df.describe() "
   ]
  },
  {
   "cell_type": "markdown",
   "metadata": {},
   "source": [
    "\n",
    "The feet and max price looks much higher than the mean, which means the data is skewed. so, we try to drop these rows by using IQR method."
   ]
  },
  {
   "cell_type": "code",
   "execution_count": null,
   "metadata": {},
   "outputs": [
    {
     "data": {
      "text/html": [
       "<div>\n",
       "<style scoped>\n",
       "    .dataframe tbody tr th:only-of-type {\n",
       "        vertical-align: middle;\n",
       "    }\n",
       "\n",
       "    .dataframe tbody tr th {\n",
       "        vertical-align: top;\n",
       "    }\n",
       "\n",
       "    .dataframe thead th {\n",
       "        text-align: right;\n",
       "    }\n",
       "</style>\n",
       "<table border=\"1\" class=\"dataframe\">\n",
       "  <thead>\n",
       "    <tr style=\"text-align: right;\">\n",
       "      <th></th>\n",
       "      <th>id</th>\n",
       "      <th>bathrooms</th>\n",
       "      <th>bedrooms</th>\n",
       "      <th>price</th>\n",
       "      <th>square_feet</th>\n",
       "      <th>latitude</th>\n",
       "      <th>longitude</th>\n",
       "      <th>time</th>\n",
       "    </tr>\n",
       "  </thead>\n",
       "  <tbody>\n",
       "    <tr>\n",
       "      <th>count</th>\n",
       "      <td>9.192700e+04</td>\n",
       "      <td>91927.00000</td>\n",
       "      <td>91927.000000</td>\n",
       "      <td>91927.000000</td>\n",
       "      <td>91927.000000</td>\n",
       "      <td>91927.000000</td>\n",
       "      <td>91927.000000</td>\n",
       "      <td>9.192700e+04</td>\n",
       "    </tr>\n",
       "    <tr>\n",
       "      <th>mean</th>\n",
       "      <td>5.355105e+09</td>\n",
       "      <td>1.39867</td>\n",
       "      <td>1.664255</td>\n",
       "      <td>1383.391669</td>\n",
       "      <td>907.774169</td>\n",
       "      <td>36.941627</td>\n",
       "      <td>-91.232282</td>\n",
       "      <td>1.559486e+09</td>\n",
       "    </tr>\n",
       "    <tr>\n",
       "      <th>std</th>\n",
       "      <td>1.836797e+08</td>\n",
       "      <td>0.50105</td>\n",
       "      <td>0.680488</td>\n",
       "      <td>512.817885</td>\n",
       "      <td>255.342931</td>\n",
       "      <td>4.591339</td>\n",
       "      <td>15.393582</td>\n",
       "      <td>1.098656e+07</td>\n",
       "    </tr>\n",
       "    <tr>\n",
       "      <th>min</th>\n",
       "      <td>5.121046e+09</td>\n",
       "      <td>0.00000</td>\n",
       "      <td>0.000000</td>\n",
       "      <td>100.000000</td>\n",
       "      <td>150.000000</td>\n",
       "      <td>19.666000</td>\n",
       "      <td>-159.369800</td>\n",
       "      <td>1.544174e+09</td>\n",
       "    </tr>\n",
       "    <tr>\n",
       "      <th>25%</th>\n",
       "      <td>5.197943e+09</td>\n",
       "      <td>1.00000</td>\n",
       "      <td>1.000000</td>\n",
       "      <td>995.000000</td>\n",
       "      <td>720.000000</td>\n",
       "      <td>33.700600</td>\n",
       "      <td>-101.310700</td>\n",
       "      <td>1.550831e+09</td>\n",
       "    </tr>\n",
       "    <tr>\n",
       "      <th>50%</th>\n",
       "      <td>5.508655e+09</td>\n",
       "      <td>1.00000</td>\n",
       "      <td>2.000000</td>\n",
       "      <td>1300.000000</td>\n",
       "      <td>882.000000</td>\n",
       "      <td>37.213900</td>\n",
       "      <td>-84.528900</td>\n",
       "      <td>1.568744e+09</td>\n",
       "    </tr>\n",
       "    <tr>\n",
       "      <th>75%</th>\n",
       "      <td>5.509002e+09</td>\n",
       "      <td>2.00000</td>\n",
       "      <td>2.000000</td>\n",
       "      <td>1685.000000</td>\n",
       "      <td>1091.000000</td>\n",
       "      <td>39.905000</td>\n",
       "      <td>-77.704500</td>\n",
       "      <td>1.568767e+09</td>\n",
       "    </tr>\n",
       "    <tr>\n",
       "      <th>max</th>\n",
       "      <td>5.669439e+09</td>\n",
       "      <td>4.00000</td>\n",
       "      <td>6.000000</td>\n",
       "      <td>2897.000000</td>\n",
       "      <td>1694.000000</td>\n",
       "      <td>64.833200</td>\n",
       "      <td>-68.778800</td>\n",
       "      <td>1.577391e+09</td>\n",
       "    </tr>\n",
       "  </tbody>\n",
       "</table>\n",
       "</div>"
      ],
      "text/plain": [
       "                 id    bathrooms      bedrooms         price   square_feet  \\\n",
       "count  9.192700e+04  91927.00000  91927.000000  91927.000000  91927.000000   \n",
       "mean   5.355105e+09      1.39867      1.664255   1383.391669    907.774169   \n",
       "std    1.836797e+08      0.50105      0.680488    512.817885    255.342931   \n",
       "min    5.121046e+09      0.00000      0.000000    100.000000    150.000000   \n",
       "25%    5.197943e+09      1.00000      1.000000    995.000000    720.000000   \n",
       "50%    5.508655e+09      1.00000      2.000000   1300.000000    882.000000   \n",
       "75%    5.509002e+09      2.00000      2.000000   1685.000000   1091.000000   \n",
       "max    5.669439e+09      4.00000      6.000000   2897.000000   1694.000000   \n",
       "\n",
       "           latitude     longitude          time  \n",
       "count  91927.000000  91927.000000  9.192700e+04  \n",
       "mean      36.941627    -91.232282  1.559486e+09  \n",
       "std        4.591339     15.393582  1.098656e+07  \n",
       "min       19.666000   -159.369800  1.544174e+09  \n",
       "25%       33.700600   -101.310700  1.550831e+09  \n",
       "50%       37.213900    -84.528900  1.568744e+09  \n",
       "75%       39.905000    -77.704500  1.568767e+09  \n",
       "max       64.833200    -68.778800  1.577391e+09  "
      ]
     },
     "execution_count": 605,
     "metadata": {},
     "output_type": "execute_result"
    }
   ],
   "source": [
    "# use IQR method to drop the outliers in 'square_feet' \n",
    "Q1 = df['square_feet'].quantile(0.25)\n",
    "Q3 = df['square_feet'].quantile(0.75)\n",
    "IQR = Q3 - Q1\n",
    "lower_bound = Q1 - 1.5 * IQR\n",
    "upper_bound = Q3 + 1.5 * IQR\n",
    "df = df[(df['square_feet'] >= lower_bound) & (df['square_feet'] <= upper_bound)]\n",
    "\n",
    "# use IQR method to drop the outliers in 'price'\n",
    "Q1 = df['price'].quantile(0.25)\n",
    "Q3 = df['price'].quantile(0.75)\n",
    "IQR = Q3 - Q1\n",
    "lower_bound = Q1 - 1.5 * IQR\n",
    "upper_bound = Q3 + 1.5 * IQR\n",
    "df = df[(df['price'] >= lower_bound) & (df['price'] <= upper_bound)]\n",
    "df.describe()"
   ]
  },
  {
   "cell_type": "markdown",
   "metadata": {},
   "source": [
    "In terms of numerical features, the mean, median, standard deviation, minimum and maximum of each feature are shown. \n",
    "According to the table, the latitude is from 19.57 to 64.83, average is 36.95 and longtitude is from -158.37 to -68.78, average is -91.57, which refer to the data is mainly covers North America, especially the continental United States, because the latitude and longitude of the continental United States are roughly within this range. Which is also confirm this is a dataset of classified for apartments for rent in USA, accoding to the reference link https://archive.ics.uci.edu/dataset/555/apartment+for+rent+classified"
   ]
  },
  {
   "cell_type": "code",
   "execution_count": null,
   "metadata": {},
   "outputs": [
    {
     "data": {
      "text/html": [
       "<div>\n",
       "<style scoped>\n",
       "    .dataframe tbody tr th:only-of-type {\n",
       "        vertical-align: middle;\n",
       "    }\n",
       "\n",
       "    .dataframe tbody tr th {\n",
       "        vertical-align: top;\n",
       "    }\n",
       "\n",
       "    .dataframe thead th {\n",
       "        text-align: right;\n",
       "    }\n",
       "</style>\n",
       "<table border=\"1\" class=\"dataframe\">\n",
       "  <thead>\n",
       "    <tr style=\"text-align: right;\">\n",
       "      <th></th>\n",
       "      <th>category</th>\n",
       "      <th>title</th>\n",
       "      <th>body</th>\n",
       "      <th>amenities</th>\n",
       "      <th>currency</th>\n",
       "      <th>fee</th>\n",
       "      <th>has_photo</th>\n",
       "      <th>pets_allowed</th>\n",
       "      <th>price_display</th>\n",
       "      <th>price_type</th>\n",
       "      <th>cityname</th>\n",
       "      <th>state</th>\n",
       "      <th>source</th>\n",
       "    </tr>\n",
       "  </thead>\n",
       "  <tbody>\n",
       "    <tr>\n",
       "      <th>count</th>\n",
       "      <td>91927</td>\n",
       "      <td>91927</td>\n",
       "      <td>91927</td>\n",
       "      <td>91927</td>\n",
       "      <td>91927</td>\n",
       "      <td>91927</td>\n",
       "      <td>91927</td>\n",
       "      <td>91927</td>\n",
       "      <td>91927</td>\n",
       "      <td>91927</td>\n",
       "      <td>91927</td>\n",
       "      <td>91927</td>\n",
       "      <td>91927</td>\n",
       "    </tr>\n",
       "    <tr>\n",
       "      <th>unique</th>\n",
       "      <td>7</td>\n",
       "      <td>53784</td>\n",
       "      <td>87244</td>\n",
       "      <td>9116</td>\n",
       "      <td>1</td>\n",
       "      <td>2</td>\n",
       "      <td>3</td>\n",
       "      <td>5</td>\n",
       "      <td>2475</td>\n",
       "      <td>3</td>\n",
       "      <td>2830</td>\n",
       "      <td>51</td>\n",
       "      <td>23</td>\n",
       "    </tr>\n",
       "    <tr>\n",
       "      <th>top</th>\n",
       "      <td>housing/rent/apartment</td>\n",
       "      <td>Apartment in great location</td>\n",
       "      <td>When searching for a pet-friendly One-, Two- a...</td>\n",
       "      <td>NONE</td>\n",
       "      <td>USD</td>\n",
       "      <td>No</td>\n",
       "      <td>Yes</td>\n",
       "      <td>Not_allowed</td>\n",
       "      <td>$1,350</td>\n",
       "      <td>Monthly</td>\n",
       "      <td>Dallas</td>\n",
       "      <td>TX</td>\n",
       "      <td>RentDigs.com</td>\n",
       "    </tr>\n",
       "    <tr>\n",
       "      <th>freq</th>\n",
       "      <td>91872</td>\n",
       "      <td>1001</td>\n",
       "      <td>43</td>\n",
       "      <td>14088</td>\n",
       "      <td>91927</td>\n",
       "      <td>91773</td>\n",
       "      <td>51499</td>\n",
       "      <td>55265</td>\n",
       "      <td>551</td>\n",
       "      <td>91925</td>\n",
       "      <td>2776</td>\n",
       "      <td>10937</td>\n",
       "      <td>84515</td>\n",
       "    </tr>\n",
       "  </tbody>\n",
       "</table>\n",
       "</div>"
      ],
      "text/plain": [
       "                      category                        title  \\\n",
       "count                    91927                        91927   \n",
       "unique                       7                        53784   \n",
       "top     housing/rent/apartment  Apartment in great location   \n",
       "freq                     91872                         1001   \n",
       "\n",
       "                                                     body amenities currency  \\\n",
       "count                                               91927     91927    91927   \n",
       "unique                                              87244      9116        1   \n",
       "top     When searching for a pet-friendly One-, Two- a...      NONE      USD   \n",
       "freq                                                   43     14088    91927   \n",
       "\n",
       "          fee has_photo pets_allowed price_display price_type cityname  state  \\\n",
       "count   91927     91927        91927         91927      91927    91927  91927   \n",
       "unique      2         3            5          2475          3     2830     51   \n",
       "top        No       Yes  Not_allowed        $1,350    Monthly   Dallas     TX   \n",
       "freq    91773     51499        55265           551      91925     2776  10937   \n",
       "\n",
       "              source  \n",
       "count          91927  \n",
       "unique            23  \n",
       "top     RentDigs.com  \n",
       "freq           84515  "
      ]
     },
     "execution_count": 606,
     "metadata": {},
     "output_type": "execute_result"
    }
   ],
   "source": [
    "df.describe(include=object)"
   ]
  },
  {
   "cell_type": "markdown",
   "metadata": {},
   "source": [
    "According to the table, apartments.csv has 22 features, including  7 numerical features and 14 categorical features. \n",
    "\n",
    "In terms of numerical features, we can analyze the relationship and distribution among bathrooms and bedrooms square_feet and price.\n",
    "\n",
    "In terms of categorical features,category, pets_allowed and state are the perspectives can be analyzed meaningfully.\n",
    "\n"
   ]
  },
  {
   "cell_type": "code",
   "execution_count": null,
   "metadata": {},
   "outputs": [
    {
     "data": {
      "text/plain": [
       "Yes          51499\n",
       "Thumbnail    32085\n",
       "No            8343\n",
       "Name: has_photo, dtype: int64"
      ]
     },
     "execution_count": 607,
     "metadata": {},
     "output_type": "execute_result"
    }
   ],
   "source": [
    "df['has_photo'].value_counts()"
   ]
  },
  {
   "cell_type": "code",
   "execution_count": null,
   "metadata": {},
   "outputs": [
    {
     "data": {
      "text/plain": [
       "Monthly           91925\n",
       "Weekly                1\n",
       "Monthly|Weekly        1\n",
       "Name: price_type, dtype: int64"
      ]
     },
     "execution_count": 608,
     "metadata": {},
     "output_type": "execute_result"
    }
   ],
   "source": [
    "df['price_type'].value_counts()"
   ]
  },
  {
   "cell_type": "markdown",
   "metadata": {},
   "source": [
    "we can see that the most of the data rows are 'Monthly', and the only 1 row is 'weekly', and 1 row is 'Monthly|Weekly'. So we just drop these 2 rows.\n"
   ]
  },
  {
   "cell_type": "code",
   "execution_count": null,
   "metadata": {},
   "outputs": [
    {
     "data": {
      "text/plain": [
       "Monthly    91925\n",
       "Name: price_type, dtype: int64"
      ]
     },
     "execution_count": 609,
     "metadata": {},
     "output_type": "execute_result"
    }
   ],
   "source": [
    "df.drop(df[df['price_type'] == 'Weekly'].index, inplace=True)\n",
    "df.drop(df[df['price_type'] == 'Monthly|Weekly'].index, inplace=True)\n",
    "df['price_type'].value_counts()"
   ]
  },
  {
   "cell_type": "code",
   "execution_count": null,
   "metadata": {},
   "outputs": [
    {
     "data": {
      "text/plain": [
       "Not_allowed       55265\n",
       "Cats,Dogs         34852\n",
       "Cats               1742\n",
       "Dogs                 65\n",
       "Cats,Dogs,None        1\n",
       "Name: pets_allowed, dtype: int64"
      ]
     },
     "execution_count": 610,
     "metadata": {},
     "output_type": "execute_result"
    }
   ],
   "source": [
    "df['pets_allowed'].value_counts()"
   ]
  },
  {
   "cell_type": "code",
   "execution_count": null,
   "metadata": {},
   "outputs": [
    {
     "data": {
      "text/plain": [
       "Not_allowed    55265\n",
       "Cats,Dogs      34852\n",
       "Cats            1742\n",
       "Dogs              65\n",
       "Name: pets_allowed, dtype: int64"
      ]
     },
     "execution_count": 611,
     "metadata": {},
     "output_type": "execute_result"
    }
   ],
   "source": [
    "df.drop(df[df['pets_allowed'] == 'Cats,Dogs,None'].index, inplace=True)\n",
    "df['pets_allowed'].value_counts()"
   ]
  },
  {
   "cell_type": "markdown",
   "metadata": {},
   "source": [
    "We can simplify this feature by using the Value 'Yes' and 'No'.\n"
   ]
  },
  {
   "cell_type": "code",
   "execution_count": null,
   "metadata": {},
   "outputs": [
    {
     "data": {
      "text/plain": [
       "No     55265\n",
       "Yes    36659\n",
       "Name: pets_allowed, dtype: int64"
      ]
     },
     "execution_count": 612,
     "metadata": {},
     "output_type": "execute_result"
    }
   ],
   "source": [
    "df['pets_allowed'] = df['pets_allowed'].replace({'Not_allowed': 'No', 'Cats,Dogs': 'Yes','Cats':'Yes', 'Dogs':'Yes'})\n",
    "df.pets_allowed.value_counts()"
   ]
  },
  {
   "cell_type": "code",
   "execution_count": null,
   "metadata": {},
   "outputs": [
    {
     "data": {
      "text/plain": [
       "(91924, 21)"
      ]
     },
     "execution_count": 613,
     "metadata": {},
     "output_type": "execute_result"
    }
   ],
   "source": [
    "df.shape"
   ]
  },
  {
   "cell_type": "markdown",
   "metadata": {},
   "source": [
    "# Data visualization\n",
    "\n",
    "\n",
    "\n"
   ]
  },
  {
   "cell_type": "code",
   "execution_count": null,
   "metadata": {},
   "outputs": [
    {
     "data": {
      "image/png": "[encoded data removed]",
      "text/plain": [
       "<Figure size 720x432 with 1 Axes>"
      ]
     },
     "metadata": {
      "needs_background": "light"
     },
     "output_type": "display_data"
    }
   ],
   "source": [
    "# Plot the relationship between price and square_feet\n",
    "sample_df = df.sample(n=1000, random_state=9)\n",
    "plt.figure(figsize=(10, 6))\n",
    "plt.scatter(sample_df['price'], sample_df['square_feet'])\n",
    "plt.xlabel('price')\n",
    "plt.ylabel('square_feet')\n",
    "plt.title('Scatter plot with sampling')\n",
    "plt.show()"
   ]
  },
  {
   "cell_type": "code",
   "execution_count": null,
   "metadata": {},
   "outputs": [
    {
     "data": {
      "image/png": "[encoded data removed]",
      "text/plain": [
       "<Figure size 720x432 with 2 Axes>"
      ]
     },
     "metadata": {
      "needs_background": "light"
     },
     "output_type": "display_data"
    }
   ],
   "source": [
    "# Plot the relationship between price and square_feet\n",
    "plt.figure(figsize=(10, 6))\n",
    "plt.hist2d(df['price'], df['square_feet'], bins=(50, 50), cmap=plt.cm.jet)\n",
    "plt.colorbar()\n",
    "plt.xlabel('price')\n",
    "plt.ylabel('square_feet')\n",
    "plt.title('2D Histogram')\n",
    "plt.show()"
   ]
  },
  {
   "cell_type": "markdown",
   "metadata": {},
   "source": [
    " There is a general positive correlation between price and square_feet. As the price increases, square_feet also tends to increase, although this trend appears to taper off at higher values of both variables."
   ]
  },
  {
   "cell_type": "markdown",
   "metadata": {},
   "source": [
    "The highest density of data points, shown in red, is concentrated around price values between approximately 600 and 1200 and square_feet values between approximately 600 and 1000. This suggests that properties within this range are the most common in the dataset."
   ]
  },
  {
   "cell_type": "code",
   "execution_count": null,
   "metadata": {},
   "outputs": [
    {
     "data": {
      "image/png": "[encoded data removed]",
      "text/plain": [
       "<Figure size 720x576 with 1 Axes>"
      ]
     },
     "metadata": {
      "needs_background": "light"
     },
     "output_type": "display_data"
    }
   ],
   "source": [
    "plt.figure(figsize=(10, 8))\n",
    "\n",
    "# plot the relationship between price and pet_allowed\n",
    "state_price = df.groupby('pets_allowed')['price'].mean()\n",
    "state_price_sorted = state_price.sort_values()\n",
    "\n",
    "# plot the bar chart\n",
    "state_price_sorted.plot(kind='bar')\n",
    "\n",
    "plt.xlabel('Pets_allowed')\n",
    "plt.ylabel('Average Price')\n",
    "plt.title('Average Price by Pets_requirement')\n",
    "\n",
    "plt.show()"
   ]
  },
  {
   "cell_type": "markdown",
   "metadata": {},
   "source": []
  },
  {
   "cell_type": "code",
   "execution_count": null,
   "metadata": {},
   "outputs": [
    {
     "data": {
      "text/plain": [
       "No     55265\n",
       "Yes    36659\n",
       "Name: pets_allowed, dtype: int64"
      ]
     },
     "execution_count": 617,
     "metadata": {},
     "output_type": "execute_result"
    }
   ],
   "source": [
    "df['pets_allowed'].value_counts()"
   ]
  },
  {
   "cell_type": "markdown",
   "metadata": {},
   "source": [
    "The average price is similar and we can not see a strong relationship between price and pets_allowed. while Pets_allowed = 'No' has the slight higher average price."
   ]
  },
  {
   "cell_type": "code",
   "execution_count": null,
   "metadata": {},
   "outputs": [
    {
     "data": {
      "image/png": "[encoded data removed]",
      "text/plain": [
       "<Figure size 720x576 with 1 Axes>"
      ]
     },
     "metadata": {
      "needs_background": "light"
     },
     "output_type": "display_data"
    }
   ],
   "source": [
    "# plot the relationship between price and has_photo\n",
    "plt.figure(figsize=(10, 8))\n",
    "\n",
    "\n",
    "state_price = df.groupby('has_photo')['price'].mean()\n",
    "state_price_sorted = state_price.sort_values()\n",
    "\n",
    "# plot the bar chart\n",
    "state_price_sorted.plot(kind='bar')\n",
    "\n",
    "plt.xlabel('has_photo')\n",
    "plt.ylabel('Average Price')\n",
    "plt.title('Average Price by has_photo')\n",
    "\n",
    "plt.show()"
   ]
  },
  {
   "cell_type": "code",
   "execution_count": null,
   "metadata": {},
   "outputs": [
    {
     "data": {
      "text/plain": [
       "Yes          51499\n",
       "Thumbnail    32082\n",
       "No            8343\n",
       "Name: has_photo, dtype: int64"
      ]
     },
     "execution_count": 619,
     "metadata": {},
     "output_type": "execute_result"
    }
   ],
   "source": [
    "df['has_photo'].value_counts()"
   ]
  },
  {
   "cell_type": "markdown",
   "metadata": {},
   "source": [
    "The average price is similar and we can not see a strong relationship between price and has_photo . while has_photo = 'No' has the slight higher average price."
   ]
  },
  {
   "cell_type": "code",
   "execution_count": null,
   "metadata": {},
   "outputs": [
    {
     "data": {
      "image/png": "[encoded data removed]",
      "text/plain": [
       "<Figure size 720x576 with 1 Axes>"
      ]
     },
     "metadata": {
      "needs_background": "light"
     },
     "output_type": "display_data"
    }
   ],
   "source": [
    "plt.figure(figsize=(10, 8))\n",
    "\n",
    "# plot the relationship between price and state\n",
    "state_price = df.groupby('state')['price'].mean()\n",
    "state_price_sorted = state_price.sort_values()\n",
    "\n",
    "# plot the bar chart\n",
    "state_price_sorted.plot(kind='bar')\n",
    "\n",
    "plt.xlabel('State')\n",
    "plt.ylabel('Average Price')\n",
    "plt.title('Average Price by State')\n",
    "\n",
    "plt.show()\n"
   ]
  },
  {
   "cell_type": "markdown",
   "metadata": {},
   "source": [
    "According to the bar chart see there is a trend between price and states. State with the highest average price are MA and CA , both of which reach about 1780"
   ]
  },
  {
   "cell_type": "code",
   "execution_count": null,
   "metadata": {},
   "outputs": [
    {
     "data": {
      "image/png": "[encoded data removed]",
      "text/plain": [
       "<Figure size 720x432 with 1 Axes>"
      ]
     },
     "metadata": {
      "needs_background": "light"
     },
     "output_type": "display_data"
    }
   ],
   "source": [
    "# Plot scatter plot \n",
    "plt.figure(figsize=(10, 6))\n",
    "plt.scatter(df['longitude'], df['latitude'])\n",
    "plt.ylabel('latitude')\n",
    "plt.xlabel('longitude')\n",
    "plt.title('Scatter plot with longitude and latitude')\n",
    "plt.show()"
   ]
  },
  {
   "cell_type": "markdown",
   "metadata": {},
   "source": [
    "According to the latitude and longitude shows a brief of USA map. Most of our data are collect from the east and of the USA, which is reasonable beacuse of its population distribution.\n"
   ]
  },
  {
   "cell_type": "markdown",
   "metadata": {},
   "source": [
    "\n",
    "\n",
    "\n",
    "\n",
    "\n",
    "\n",
    "Considering it is not effective to visualize each 2 of the relationship in numerical , I decide to compute correlation matrix between price and other numerical features.\n"
   ]
  },
  {
   "cell_type": "code",
   "execution_count": null,
   "metadata": {},
   "outputs": [
    {
     "data": {
      "image/png": "[encoded data removed]",
      "text/plain": [
       "<Figure size 720x576 with 2 Axes>"
      ]
     },
     "metadata": {
      "needs_background": "light"
     },
     "output_type": "display_data"
    }
   ],
   "source": [
    "# calcualte the correlation matrix among  \n",
    "considered_df = df[['price', 'bedrooms', 'bathrooms', 'square_feet']]\n",
    "considered_df\n",
    "correlation_matrix = considered_df.corr()\n",
    "# plot hit map to visualize the correlation matrix\n",
    "plt.figure(figsize=(10, 8))\n",
    "sns.heatmap(correlation_matrix, annot=True, cmap='coolwarm', vmin=-1, vmax=1)\n",
    "plt.title('Correlation Matrix Heatmap')\n",
    "plt.show()"
   ]
  },
  {
   "cell_type": "markdown",
   "metadata": {},
   "source": [
    "There are a positive Correlation between Price and numbers of Bedrooms/Bathrooms and square_feet.\n",
    "\n",
    "\n",
    "The price increase due to more bedrooms/bathrooms might be partly because they are often found in larger houses (more square_feet)."
   ]
  },
  {
   "cell_type": "markdown",
   "metadata": {},
   "source": [
    "Based on the EDA, we can conclude the factors for prediction are:\n",
    "1. Bedrooms, bathrooms, square_feet are factors to predict target.\n",
    "2. Pets_allowed and has_photo are not a necessary factor to predict target.\n",
    "3. state has a strong correlation with price."
   ]
  },
  {
   "cell_type": "markdown",
   "metadata": {},
   "source": [
    "# Build Model and Evaluate\n"
   ]
  },
  {
   "cell_type": "markdown",
   "metadata": {},
   "source": [
    "In order to build a model, we can simplfy our dataset. map our price in to categorial values. According to the distribution of prices. I decide to use 6 categories: 0-500, 500-1000, 1000-1500, 1500-2000, 2000-2500, 2500-3000"
   ]
  },
  {
   "cell_type": "code",
   "execution_count": null,
   "metadata": {},
   "outputs": [
    {
     "data": {
      "text/html": [
       "<div>\n",
       "<style scoped>\n",
       "    .dataframe tbody tr th:only-of-type {\n",
       "        vertical-align: middle;\n",
       "    }\n",
       "\n",
       "    .dataframe tbody tr th {\n",
       "        vertical-align: top;\n",
       "    }\n",
       "\n",
       "    .dataframe thead th {\n",
       "        text-align: right;\n",
       "    }\n",
       "</style>\n",
       "<table border=\"1\" class=\"dataframe\">\n",
       "  <thead>\n",
       "    <tr style=\"text-align: right;\">\n",
       "      <th></th>\n",
       "      <th>id</th>\n",
       "      <th>bathrooms</th>\n",
       "      <th>bedrooms</th>\n",
       "      <th>price</th>\n",
       "      <th>square_feet</th>\n",
       "      <th>latitude</th>\n",
       "      <th>longitude</th>\n",
       "      <th>time</th>\n",
       "    </tr>\n",
       "  </thead>\n",
       "  <tbody>\n",
       "    <tr>\n",
       "      <th>count</th>\n",
       "      <td>9.192400e+04</td>\n",
       "      <td>91924.000000</td>\n",
       "      <td>91924.000000</td>\n",
       "      <td>91924.000000</td>\n",
       "      <td>91924.000000</td>\n",
       "      <td>91924.000000</td>\n",
       "      <td>91924.000000</td>\n",
       "      <td>9.192400e+04</td>\n",
       "    </tr>\n",
       "    <tr>\n",
       "      <th>mean</th>\n",
       "      <td>5.355100e+09</td>\n",
       "      <td>1.398693</td>\n",
       "      <td>1.664288</td>\n",
       "      <td>1383.406738</td>\n",
       "      <td>907.790523</td>\n",
       "      <td>36.941658</td>\n",
       "      <td>-91.232517</td>\n",
       "      <td>1.559486e+09</td>\n",
       "    </tr>\n",
       "    <tr>\n",
       "      <th>std</th>\n",
       "      <td>1.836768e+08</td>\n",
       "      <td>0.501033</td>\n",
       "      <td>0.680470</td>\n",
       "      <td>512.810711</td>\n",
       "      <td>255.327806</td>\n",
       "      <td>4.591241</td>\n",
       "      <td>15.393731</td>\n",
       "      <td>1.098641e+07</td>\n",
       "    </tr>\n",
       "    <tr>\n",
       "      <th>min</th>\n",
       "      <td>5.121046e+09</td>\n",
       "      <td>0.000000</td>\n",
       "      <td>0.000000</td>\n",
       "      <td>100.000000</td>\n",
       "      <td>150.000000</td>\n",
       "      <td>19.666000</td>\n",
       "      <td>-159.369800</td>\n",
       "      <td>1.544174e+09</td>\n",
       "    </tr>\n",
       "    <tr>\n",
       "      <th>25%</th>\n",
       "      <td>5.197943e+09</td>\n",
       "      <td>1.000000</td>\n",
       "      <td>1.000000</td>\n",
       "      <td>995.000000</td>\n",
       "      <td>720.000000</td>\n",
       "      <td>33.700600</td>\n",
       "      <td>-101.310700</td>\n",
       "      <td>1.550831e+09</td>\n",
       "    </tr>\n",
       "    <tr>\n",
       "      <th>50%</th>\n",
       "      <td>5.508654e+09</td>\n",
       "      <td>1.000000</td>\n",
       "      <td>2.000000</td>\n",
       "      <td>1300.000000</td>\n",
       "      <td>882.000000</td>\n",
       "      <td>37.215300</td>\n",
       "      <td>-84.528900</td>\n",
       "      <td>1.568744e+09</td>\n",
       "    </tr>\n",
       "    <tr>\n",
       "      <th>75%</th>\n",
       "      <td>5.509002e+09</td>\n",
       "      <td>2.000000</td>\n",
       "      <td>2.000000</td>\n",
       "      <td>1685.000000</td>\n",
       "      <td>1091.000000</td>\n",
       "      <td>39.905000</td>\n",
       "      <td>-77.704500</td>\n",
       "      <td>1.568767e+09</td>\n",
       "    </tr>\n",
       "    <tr>\n",
       "      <th>max</th>\n",
       "      <td>5.669439e+09</td>\n",
       "      <td>4.000000</td>\n",
       "      <td>6.000000</td>\n",
       "      <td>2897.000000</td>\n",
       "      <td>1694.000000</td>\n",
       "      <td>64.833200</td>\n",
       "      <td>-68.778800</td>\n",
       "      <td>1.577391e+09</td>\n",
       "    </tr>\n",
       "  </tbody>\n",
       "</table>\n",
       "</div>"
      ],
      "text/plain": [
       "                 id     bathrooms      bedrooms         price   square_feet  \\\n",
       "count  9.192400e+04  91924.000000  91924.000000  91924.000000  91924.000000   \n",
       "mean   5.355100e+09      1.398693      1.664288   1383.406738    907.790523   \n",
       "std    1.836768e+08      0.501033      0.680470    512.810711    255.327806   \n",
       "min    5.121046e+09      0.000000      0.000000    100.000000    150.000000   \n",
       "25%    5.197943e+09      1.000000      1.000000    995.000000    720.000000   \n",
       "50%    5.508654e+09      1.000000      2.000000   1300.000000    882.000000   \n",
       "75%    5.509002e+09      2.000000      2.000000   1685.000000   1091.000000   \n",
       "max    5.669439e+09      4.000000      6.000000   2897.000000   1694.000000   \n",
       "\n",
       "           latitude     longitude          time  \n",
       "count  91924.000000  91924.000000  9.192400e+04  \n",
       "mean      36.941658    -91.232517  1.559486e+09  \n",
       "std        4.591241     15.393731  1.098641e+07  \n",
       "min       19.666000   -159.369800  1.544174e+09  \n",
       "25%       33.700600   -101.310700  1.550831e+09  \n",
       "50%       37.215300    -84.528900  1.568744e+09  \n",
       "75%       39.905000    -77.704500  1.568767e+09  \n",
       "max       64.833200    -68.778800  1.577391e+09  "
      ]
     },
     "execution_count": 623,
     "metadata": {},
     "output_type": "execute_result"
    }
   ],
   "source": [
    "df.describe()"
   ]
  },
  {
   "cell_type": "code",
   "execution_count": null,
   "metadata": {},
   "outputs": [
    {
     "data": {
      "text/plain": [
       "1000-1500    35598\n",
       "500-1000     23575\n",
       "1500-2000    20436\n",
       "2000-2500     8547\n",
       "2500-3000     3208\n",
       "0-500          560\n",
       "Name: price_level, dtype: int64"
      ]
     },
     "execution_count": 624,
     "metadata": {},
     "output_type": "execute_result"
    }
   ],
   "source": [
    "df['price_level'] = pd.cut(df['price'], bins=[0, 500, 1000, 1500, 2000, 2500, 3000], labels=['0-500', '500-1000', '1000-1500', '1500-2000', '2000-2500', '2500-3000'])\n",
    "# check the none\n",
    "df['price_level'].value_counts()"
   ]
  },
  {
   "cell_type": "code",
   "execution_count": null,
   "metadata": {},
   "outputs": [
    {
     "data": {
      "text/html": [
       "<div>\n",
       "<style scoped>\n",
       "    .dataframe tbody tr th:only-of-type {\n",
       "        vertical-align: middle;\n",
       "    }\n",
       "\n",
       "    .dataframe tbody tr th {\n",
       "        vertical-align: top;\n",
       "    }\n",
       "\n",
       "    .dataframe thead th {\n",
       "        text-align: right;\n",
       "    }\n",
       "</style>\n",
       "<table border=\"1\" class=\"dataframe\">\n",
       "  <thead>\n",
       "    <tr style=\"text-align: right;\">\n",
       "      <th></th>\n",
       "      <th>state</th>\n",
       "      <th>bedrooms</th>\n",
       "      <th>bathrooms</th>\n",
       "      <th>square_feet</th>\n",
       "      <th>price_level</th>\n",
       "      <th>price</th>\n",
       "    </tr>\n",
       "  </thead>\n",
       "  <tbody>\n",
       "    <tr>\n",
       "      <th>0</th>\n",
       "      <td>CA</td>\n",
       "      <td>1.0</td>\n",
       "      <td>1.0</td>\n",
       "      <td>542</td>\n",
       "      <td>2000-2500</td>\n",
       "      <td>2195.0</td>\n",
       "    </tr>\n",
       "    <tr>\n",
       "      <th>1</th>\n",
       "      <td>VA</td>\n",
       "      <td>3.0</td>\n",
       "      <td>1.5</td>\n",
       "      <td>1500</td>\n",
       "      <td>1000-1500</td>\n",
       "      <td>1250.0</td>\n",
       "    </tr>\n",
       "    <tr>\n",
       "      <th>2</th>\n",
       "      <td>NC</td>\n",
       "      <td>3.0</td>\n",
       "      <td>2.0</td>\n",
       "      <td>1650</td>\n",
       "      <td>1000-1500</td>\n",
       "      <td>1395.0</td>\n",
       "    </tr>\n",
       "    <tr>\n",
       "      <th>3</th>\n",
       "      <td>CA</td>\n",
       "      <td>2.0</td>\n",
       "      <td>1.0</td>\n",
       "      <td>820</td>\n",
       "      <td>1500-2000</td>\n",
       "      <td>1600.0</td>\n",
       "    </tr>\n",
       "    <tr>\n",
       "      <th>4</th>\n",
       "      <td>NM</td>\n",
       "      <td>1.0</td>\n",
       "      <td>1.0</td>\n",
       "      <td>624</td>\n",
       "      <td>500-1000</td>\n",
       "      <td>975.0</td>\n",
       "    </tr>\n",
       "    <tr>\n",
       "      <th>...</th>\n",
       "      <td>...</td>\n",
       "      <td>...</td>\n",
       "      <td>...</td>\n",
       "      <td>...</td>\n",
       "      <td>...</td>\n",
       "      <td>...</td>\n",
       "    </tr>\n",
       "    <tr>\n",
       "      <th>99487</th>\n",
       "      <td>TX</td>\n",
       "      <td>1.0</td>\n",
       "      <td>1.0</td>\n",
       "      <td>605</td>\n",
       "      <td>500-1000</td>\n",
       "      <td>780.0</td>\n",
       "    </tr>\n",
       "    <tr>\n",
       "      <th>99488</th>\n",
       "      <td>FL</td>\n",
       "      <td>2.0</td>\n",
       "      <td>2.0</td>\n",
       "      <td>921</td>\n",
       "      <td>500-1000</td>\n",
       "      <td>813.0</td>\n",
       "    </tr>\n",
       "    <tr>\n",
       "      <th>99489</th>\n",
       "      <td>CA</td>\n",
       "      <td>1.0</td>\n",
       "      <td>1.0</td>\n",
       "      <td>650</td>\n",
       "      <td>1000-1500</td>\n",
       "      <td>1325.0</td>\n",
       "    </tr>\n",
       "    <tr>\n",
       "      <th>99490</th>\n",
       "      <td>NC</td>\n",
       "      <td>1.0</td>\n",
       "      <td>1.0</td>\n",
       "      <td>701</td>\n",
       "      <td>500-1000</td>\n",
       "      <td>931.0</td>\n",
       "    </tr>\n",
       "    <tr>\n",
       "      <th>99491</th>\n",
       "      <td>CA</td>\n",
       "      <td>2.0</td>\n",
       "      <td>1.5</td>\n",
       "      <td>900</td>\n",
       "      <td>1500-2000</td>\n",
       "      <td>1595.0</td>\n",
       "    </tr>\n",
       "  </tbody>\n",
       "</table>\n",
       "<p>91924 rows × 6 columns</p>\n",
       "</div>"
      ],
      "text/plain": [
       "      state  bedrooms  bathrooms  square_feet price_level   price\n",
       "0        CA       1.0        1.0          542   2000-2500  2195.0\n",
       "1        VA       3.0        1.5         1500   1000-1500  1250.0\n",
       "2        NC       3.0        2.0         1650   1000-1500  1395.0\n",
       "3        CA       2.0        1.0          820   1500-2000  1600.0\n",
       "4        NM       1.0        1.0          624    500-1000   975.0\n",
       "...     ...       ...        ...          ...         ...     ...\n",
       "99487    TX       1.0        1.0          605    500-1000   780.0\n",
       "99488    FL       2.0        2.0          921    500-1000   813.0\n",
       "99489    CA       1.0        1.0          650   1000-1500  1325.0\n",
       "99490    NC       1.0        1.0          701    500-1000   931.0\n",
       "99491    CA       2.0        1.5          900   1500-2000  1595.0\n",
       "\n",
       "[91924 rows x 6 columns]"
      ]
     },
     "execution_count": 625,
     "metadata": {},
     "output_type": "execute_result"
    }
   ],
   "source": [
    "# Extract the data we need\n",
    "ndf = df[['state', 'bedrooms', 'bathrooms', 'square_feet','price_level','price']]\n",
    "# Split the data into training and testing sets\n",
    "ndf"
   ]
  },
  {
   "cell_type": "markdown",
   "metadata": {},
   "source": [
    "Random Forest"
   ]
  },
  {
   "cell_type": "code",
   "execution_count": null,
   "metadata": {},
   "outputs": [
    {
     "name": "stderr",
     "output_type": "stream",
     "text": [
      "d:\\anaconda3envs\\env_jupyter\\lib\\site-packages\\ipykernel_launcher.py:23: SettingWithCopyWarning: \n",
      "A value is trying to be set on a copy of a slice from a DataFrame.\n",
      "Try using .loc[row_indexer,col_indexer] = value instead\n",
      "\n",
      "See the caveats in the documentation: https://pandas.pydata.org/pandas-docs/stable/user_guide/indexing.html#returning-a-view-versus-a-copy\n"
     ]
    },
    {
     "name": "stdout",
     "output_type": "stream",
     "text": [
      "Confusion Matrix:\n",
      "[[  18   82   10    2    0    0]\n",
      " [  34 3330 1110  195   42    4]\n",
      " [   6 1048 4853  958  197   58]\n",
      " [   5  223 1122 2271  353  113]\n",
      " [   0   55  273  501  737  143]\n",
      " [   0   13   96  152  175  206]]\n",
      "Classification Report:\n",
      "              precision    recall  f1-score   support\n",
      "\n",
      "           0       0.29      0.16      0.21       112\n",
      "           1       0.70      0.71      0.70      4715\n",
      "           2       0.65      0.68      0.67      7120\n",
      "           3       0.56      0.56      0.56      4087\n",
      "           4       0.49      0.43      0.46      1709\n",
      "           5       0.39      0.32      0.35       642\n",
      "\n",
      "    accuracy                           0.62     18385\n",
      "   macro avg       0.51      0.48      0.49     18385\n",
      "weighted avg       0.62      0.62      0.62     18385\n",
      "\n"
     ]
    },
    {
     "data": {
      "image/png": "[encoded data removed]",
      "text/plain": [
       "<Figure size 432x288 with 2 Axes>"
      ]
     },
     "metadata": {
      "needs_background": "light"
     },
     "output_type": "display_data"
    },
    {
     "data": {
      "image/png": "[encoded data removed]",
      "text/plain": [
       "<Figure size 432x288 with 2 Axes>"
      ]
     },
     "metadata": {
      "needs_background": "light"
     },
     "output_type": "display_data"
    }
   ],
   "source": [
    "import pandas as pd\n",
    "import numpy as np\n",
    "from sklearn.model_selection import train_test_split\n",
    "from sklearn.preprocessing import StandardScaler, LabelEncoder\n",
    "from sklearn.ensemble import RandomForestClassifier\n",
    "from sklearn.metrics import classification_report, confusion_matrix, ConfusionMatrixDisplay\n",
    "from sklearn.compose import ColumnTransformer\n",
    "from sklearn.preprocessing import OneHotEncoder\n",
    "import matplotlib.pyplot as plt\n",
    "import seaborn as sns\n",
    "import joblib\n",
    "\n",
    "# Read data\n",
    "data = ndf\n",
    "\n",
    "# Define features and target variable\n",
    "features = data.drop('price_level', axis=1)\n",
    "\n",
    "\n",
    "# Convert price_level to categorical labels\n",
    "price_bins = [0, 500, 1000, 1500, 2000, 2500, 3000]\n",
    "price_labels = [0, 1, 2, 3, 4, 5]\n",
    "data['price_level_category'] = pd.cut(data['price'], bins=price_bins, labels=price_labels, include_lowest=True)\n",
    "data['price_level_category'].value_counts()\n",
    "\n",
    "# Update target variable\n",
    "target = data['price_level_category']\n",
    "\n",
    "# Split data into training and testing sets\n",
    "X_train, X_test, y_train, y_test = train_test_split(features, target, test_size=0.2, random_state=9, stratify=target)\n",
    "\n",
    "# Preprocess the data: One-hot encode categorical features, standardize numerical features\n",
    "preprocessor = ColumnTransformer(\n",
    "    transformers=[\n",
    "        ('num', StandardScaler(), ['bedrooms', 'bathrooms', 'square_feet']),\n",
    "        ('cat', OneHotEncoder(), ['state'])])\n",
    "\n",
    "# Preprocess training and testing data\n",
    "X_train_preprocessed = preprocessor.fit_transform(X_train)\n",
    "X_test_preprocessed = preprocessor.transform(X_test)\n",
    "\n",
    "# Train RandomForest classifier\n",
    "model = RandomForestClassifier(n_estimators=100, random_state=9)\n",
    "model.fit(X_train_preprocessed, y_train)\n",
    "\n",
    "# Predict on the test set\n",
    "y_pred = model.predict(X_test_preprocessed)\n",
    "\n",
    "# Evaluate the model\n",
    "\n",
    "conf_matrix = confusion_matrix(y_test, y_pred, labels=price_labels)\n",
    "report = classification_report(y_test, y_pred, labels=price_labels, output_dict=True)\n",
    "\n",
    "# Print confusion matrix and classification report\n",
    "print(\"Confusion Matrix:\")\n",
    "print(conf_matrix)\n",
    "print(\"Classification Report:\")\n",
    "print(classification_report(y_test, y_pred, labels=price_labels))\n",
    "\n",
    "# Plot confusion matrix\n",
    "disp = ConfusionMatrixDisplay(confusion_matrix=conf_matrix, display_labels=price_labels)\n",
    "disp.plot(cmap=plt.cm.Blues)\n",
    "plt.title('Confusion Matrix')\n",
    "plt.show()\n",
    "\n",
    "# Plot classification report\n",
    "report_df = pd.DataFrame(report).transpose()\n",
    "sns.heatmap(report_df.iloc[:-1, :-1], annot=True, cmap='coolwarm')\n",
    "plt.title('Classification Report')\n",
    "plt.show()\n",
    "\n"
   ]
  },
  {
   "cell_type": "markdown",
   "metadata": {},
   "source": []
  },
  {
   "cell_type": "markdown",
   "metadata": {},
   "source": [
    "The classification report of the random forest model reveals a mixed performance across the defined intervals. While the model exhibits strong precision and recall for intervals such as 500-1000 and 1000-1500, indicating its effectiveness in accurately classifying data points within these ranges, its performance diminishes for intervals like 0-500 and 2000-2500, where precision and recall are notably lower. Additionally, for the interval 2500-3000, the model struggles to correctly classify instances, as evidenced by lower precision and recall values. Overall, the model demonstrates moderate accuracy, with an overall accuracy of 0.62."
   ]
  },
  {
   "cell_type": "markdown",
   "metadata": {},
   "source": [
    "Logistic Regression"
   ]
  },
  {
   "cell_type": "code",
   "execution_count": null,
   "metadata": {},
   "outputs": [
    {
     "name": "stdout",
     "output_type": "stream",
     "text": [
      "Confusion Matrix:\n",
      "[[   0  107    5    0    0    0]\n",
      " [   0 2908 1679  119    9    0]\n",
      " [   0 1239 4730 1053   98    0]\n",
      " [   0  198 1944 1680  263    2]\n",
      " [   0   29  432  875  366    7]\n",
      " [   0    8   99  311  222    2]]\n",
      "Classification Report:\n",
      "              precision    recall  f1-score   support\n",
      "\n",
      "           0       0.00      0.00      0.00       112\n",
      "           1       0.65      0.62      0.63      4715\n",
      "           2       0.53      0.66      0.59      7120\n",
      "           3       0.42      0.41      0.41      4087\n",
      "           4       0.38      0.21      0.27      1709\n",
      "           5       0.18      0.00      0.01       642\n",
      "\n",
      "    accuracy                           0.53     18385\n",
      "   macro avg       0.36      0.32      0.32     18385\n",
      "weighted avg       0.51      0.53      0.51     18385\n",
      "\n"
     ]
    },
    {
     "name": "stderr",
     "output_type": "stream",
     "text": [
      "d:\\anaconda3envs\\env_jupyter\\lib\\site-packages\\sklearn\\metrics\\_classification.py:1248: UndefinedMetricWarning: Precision and F-score are ill-defined and being set to 0.0 in labels with no predicted samples. Use `zero_division` parameter to control this behavior.\n",
      "  _warn_prf(average, modifier, msg_start, len(result))\n",
      "d:\\anaconda3envs\\env_jupyter\\lib\\site-packages\\sklearn\\metrics\\_classification.py:1248: UndefinedMetricWarning: Precision and F-score are ill-defined and being set to 0.0 in labels with no predicted samples. Use `zero_division` parameter to control this behavior.\n",
      "  _warn_prf(average, modifier, msg_start, len(result))\n",
      "d:\\anaconda3envs\\env_jupyter\\lib\\site-packages\\sklearn\\metrics\\_classification.py:1248: UndefinedMetricWarning: Precision and F-score are ill-defined and being set to 0.0 in labels with no predicted samples. Use `zero_division` parameter to control this behavior.\n",
      "  _warn_prf(average, modifier, msg_start, len(result))\n",
      "d:\\anaconda3envs\\env_jupyter\\lib\\site-packages\\sklearn\\metrics\\_classification.py:1248: UndefinedMetricWarning: Precision and F-score are ill-defined and being set to 0.0 in labels with no predicted samples. Use `zero_division` parameter to control this behavior.\n",
      "  _warn_prf(average, modifier, msg_start, len(result))\n",
      "d:\\anaconda3envs\\env_jupyter\\lib\\site-packages\\sklearn\\metrics\\_classification.py:1248: UndefinedMetricWarning: Precision and F-score are ill-defined and being set to 0.0 in labels with no predicted samples. Use `zero_division` parameter to control this behavior.\n",
      "  _warn_prf(average, modifier, msg_start, len(result))\n",
      "d:\\anaconda3envs\\env_jupyter\\lib\\site-packages\\sklearn\\metrics\\_classification.py:1248: UndefinedMetricWarning: Precision and F-score are ill-defined and being set to 0.0 in labels with no predicted samples. Use `zero_division` parameter to control this behavior.\n",
      "  _warn_prf(average, modifier, msg_start, len(result))\n"
     ]
    },
    {
     "data": {
      "image/png": "[encoded data removed]",
      "text/plain": [
       "<Figure size 432x288 with 2 Axes>"
      ]
     },
     "metadata": {
      "needs_background": "light"
     },
     "output_type": "display_data"
    },
    {
     "data": {
      "image/png": "[encoded data removed]",
      "text/plain": [
       "<Figure size 432x288 with 2 Axes>"
      ]
     },
     "metadata": {
      "needs_background": "light"
     },
     "output_type": "display_data"
    }
   ],
   "source": [
    "\n",
    "from sklearn.linear_model import LogisticRegression\n",
    "\n",
    "# Train Logistic Regression classifier\n",
    "model = LogisticRegression(max_iter=1000, random_state=9)\n",
    "model.fit(X_train_preprocessed, y_train)\n",
    "\n",
    "# Predict on the test set\n",
    "y_pred = model.predict(X_test_preprocessed)\n",
    "\n",
    "# Evaluate the model\n",
    "conf_matrix = confusion_matrix(y_test, y_pred, labels=price_labels)\n",
    "report = classification_report(y_test, y_pred, labels=price_labels, output_dict=True)\n",
    "\n",
    "# Print confusion matrix and classification report\n",
    "print(\"Confusion Matrix:\")\n",
    "print(conf_matrix)\n",
    "print(\"Classification Report:\")\n",
    "print(classification_report(y_test, y_pred, labels=price_labels))\n",
    "\n",
    "# Plot confusion matrix\n",
    "disp = ConfusionMatrixDisplay(confusion_matrix=conf_matrix, display_labels=price_labels)\n",
    "disp.plot(cmap=plt.cm.Blues)\n",
    "plt.title('Confusion Matrix')\n",
    "plt.show()\n",
    "\n",
    "# Plot classification report\n",
    "report_df = pd.DataFrame(report).transpose()\n",
    "sns.heatmap(report_df.iloc[:-1, :-1], annot=True, cmap='coolwarm')\n",
    "plt.title('Classification Report')\n",
    "plt.show()\n",
    "\n",
    "\n"
   ]
  },
  {
   "cell_type": "markdown",
   "metadata": {},
   "source": [
    "Comparing with the previous random forest model, logistic regression generally exhibits lower performance, with lower precision, recall, and F1-scores across most intervals. The logistic regression model also yields a lower overall accuracy of 0.53 compared to the random forest's accuracy of 0.62. Additionally, logistic regression shows a tendency for lower recall values, particularly in intervals with higher ranges, suggesting a limitation in correctly identifying instances within those intervals compared to random forest. Overall, logistic regression performs less effectively in classifying instances across the defined intervals compared to the random forest model."
   ]
  },
  {
   "cell_type": "markdown",
   "metadata": {},
   "source": [
    "MLP"
   ]
  },
  {
   "cell_type": "code",
   "execution_count": null,
   "metadata": {},
   "outputs": [
    {
     "name": "stderr",
     "output_type": "stream",
     "text": [
      "d:\\anaconda3envs\\env_jupyter\\lib\\site-packages\\sklearn\\neural_network\\_multilayer_perceptron.py:617: ConvergenceWarning: Stochastic Optimizer: Maximum iterations (150) reached and the optimization hasn't converged yet.\n",
      "  % self.max_iter, ConvergenceWarning)\n"
     ]
    },
    {
     "data": {
      "image/png": "[encoded data removed]",
      "text/plain": [
       "<Figure size 432x288 with 1 Axes>"
      ]
     },
     "metadata": {
      "needs_background": "light"
     },
     "output_type": "display_data"
    },
    {
     "name": "stdout",
     "output_type": "stream",
     "text": [
      "Confusion Matrix:\n",
      "[[   8   96    8    0    0    0]\n",
      " [  11 3171 1433   65   33    2]\n",
      " [   1 1234 4977  622  278    8]\n",
      " [   1  205 1934 1360  567   20]\n",
      " [   0   51  418  463  751   26]\n",
      " [   0   18  115  129  356   24]]\n",
      "Classification Report:\n",
      "              precision    recall  f1-score   support\n",
      "\n",
      "           0       0.38      0.07      0.12       112\n",
      "           1       0.66      0.67      0.67      4715\n",
      "           2       0.56      0.70      0.62      7120\n",
      "           3       0.52      0.33      0.40      4087\n",
      "           4       0.38      0.44      0.41      1709\n",
      "           5       0.30      0.04      0.07       642\n",
      "\n",
      "    accuracy                           0.56     18385\n",
      "   macro avg       0.47      0.38      0.38     18385\n",
      "weighted avg       0.55      0.56      0.54     18385\n",
      "\n"
     ]
    },
    {
     "data": {
      "image/png": "[encoded data removed]",
      "text/plain": [
       "<Figure size 432x288 with 2 Axes>"
      ]
     },
     "metadata": {
      "needs_background": "light"
     },
     "output_type": "display_data"
    },
    {
     "data": {
      "image/png": "[encoded data removed]",
      "text/plain": [
       "<Figure size 432x288 with 2 Axes>"
      ]
     },
     "metadata": {
      "needs_background": "light"
     },
     "output_type": "display_data"
    }
   ],
   "source": [
    "from sklearn.neural_network import MLPClassifier\n",
    "import matplotlib.pyplot as plt\n",
    "\n",
    "# Train MLP classifier\n",
    "model = MLPClassifier(hidden_layer_sizes=(50,10,20), max_iter=150, random_state=9)\n",
    "model.fit(X_train_preprocessed, y_train)\n",
    "\n",
    "# Visualize loss curve\n",
    "plt.plot(model.loss_curve_)\n",
    "plt.title('Loss Curve')\n",
    "plt.xlabel('Iterations')\n",
    "plt.ylabel('Loss')\n",
    "plt.show()\n",
    "\n",
    "# Predict on the test set\n",
    "y_pred = model.predict(X_test_preprocessed)\n",
    "\n",
    "# Evaluate the model\n",
    "conf_matrix = confusion_matrix(y_test, y_pred, labels=price_labels)\n",
    "report = classification_report(y_test, y_pred, labels=price_labels, output_dict=True)\n",
    "\n",
    "# Print confusion matrix and classification report\n",
    "print(\"Confusion Matrix:\")\n",
    "print(conf_matrix)\n",
    "print(\"Classification Report:\")\n",
    "print(classification_report(y_test, y_pred, labels=price_labels))\n",
    "\n",
    "# Plot confusion matrix\n",
    "disp = ConfusionMatrixDisplay(confusion_matrix=conf_matrix, display_labels=price_labels)\n",
    "disp.plot(cmap=plt.cm.Blues)\n",
    "plt.title('Confusion Matrix')\n",
    "plt.show()\n",
    "\n",
    "# Plot classification report\n",
    "report_df = pd.DataFrame(report).transpose()\n",
    "sns.heatmap(report_df.iloc[:-1, :-1], annot=True, cmap='coolwarm')\n",
    "plt.title('Classification Report')\n",
    "plt.show()\n",
    "\n",
    "\n"
   ]
  },
  {
   "cell_type": "markdown",
   "metadata": {},
   "source": [
    "Comparing with the previous models, the MLP model with layers (50, 10, 20) exhibits a somewhat similar performance to logistic regression, with moderate precision, recall, and F1-scores across most intervals. However, it outperforms logistic regression in some aspects, such as in intervals 0-500 and 1000-1500. The MLP model also shows improvements in overall accuracy compared to logistic regression, achieving an accuracy of 0.56. Nonetheless, there are still intervals where precision and recall are relatively low, indicating challenges in accurately classifying instances within those ranges. Overall, the MLP model with layers (50, 10, 20) presents a mixed performance across the defined intervals, with room for further refinement."
   ]
  }
 ],
 "metadata": {
  "kernelspec": {
   "display_name": "Python 3",
   "language": "python",
   "name": "python3"
  },
  "language_info": {
   "codemirror_mode": {
    "name": "ipython",
    "version": 3
   },
   "file_extension": ".py",
   "mimetype": "text/x-python",
   "name": "python",
   "nbconvert_exporter": "python",
   "pygments_lexer": "ipython3",
   "version": "3.6.13"
  }
 },
 "nbformat": 4,
 "nbformat_minor": 2
}
